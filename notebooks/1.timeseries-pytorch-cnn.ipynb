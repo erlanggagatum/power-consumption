{
 "cells": [
  {
   "cell_type": "markdown",
   "metadata": {},
   "source": [
    "# Timeseries pytorch-lightning (CNN)"
   ]
  },
  {
   "cell_type": "code",
   "execution_count": 100,
   "metadata": {},
   "outputs": [],
   "source": [
    "import seaborn as sns\n",
    "import matplotlib\n",
    "import matplotlib.pyplot as plot\n",
    "import math\n",
    "from matplotlib import rc\n",
    "from pylab import rcParams\n",
    "\n",
    "import pandas as pd\n",
    "import numpy as numpy\n",
    "import pytorch_lightning as pl\n",
    "from tqdm.notebook import tqdm\n",
    "from pytorch_lightning.callbacks import ModelCheckpoint, EarlyStopping\n",
    "from pytorch_lightning.loggers import TensorBoardLogger\n",
    "from sklearn.preprocessing import MinMaxScaler\n",
    "\n",
    "import torch\n",
    "import torch.autograd as autograd\n",
    "import torch.nn as nn\n",
    "import torch.nn.functional as F\n",
    "import torch.optim as optim\n",
    "from torch.utils.data import Dataset, DataLoader\n",
    "from collections import defaultdict"
   ]
  },
  {
   "cell_type": "code",
   "execution_count": 101,
   "metadata": {},
   "outputs": [],
   "source": [
    "# !jupyter nbextension enable --py widgetsnbextension\n",
    "# !jupyter contrib nbextension install"
   ]
  },
  {
   "cell_type": "code",
   "execution_count": 102,
   "metadata": {},
   "outputs": [
    {
     "name": "stderr",
     "output_type": "stream",
     "text": [
      "Seed set to 42\n"
     ]
    },
    {
     "data": {
      "text/plain": [
       "42"
      ]
     },
     "execution_count": 102,
     "metadata": {},
     "output_type": "execute_result"
    }
   ],
   "source": [
    "%matplotlib inline\n",
    "%config InlineBackend.figure_format='jpeg'\n",
    "# !jupyter nbextension enable --py widgetsnbextension\n",
    "\n",
    "sns.set(style='whitegrid', palette='muted', font_scale=1.2)\n",
    "HAPPY_COLORS_PALETTE = ['#01BEFE', '#FFDD00', '#FF7D00', '#FF006D', '#ADFF02', '#8F00FF']\n",
    "sns.set_palette(sns.color_palette(HAPPY_COLORS_PALETTE))\n",
    "rcParams['figure.figsize'] = 12, 8\n",
    "tqdm.pandas()\n",
    "pl.seed_everything(42)"
   ]
  },
  {
   "cell_type": "markdown",
   "metadata": {},
   "source": [
    "## __Import dataset__"
   ]
  },
  {
   "cell_type": "code",
   "execution_count": 103,
   "metadata": {},
   "outputs": [
    {
     "data": {
      "text/html": [
       "<div>\n",
       "<style scoped>\n",
       "    .dataframe tbody tr th:only-of-type {\n",
       "        vertical-align: middle;\n",
       "    }\n",
       "\n",
       "    .dataframe tbody tr th {\n",
       "        vertical-align: top;\n",
       "    }\n",
       "\n",
       "    .dataframe thead th {\n",
       "        text-align: right;\n",
       "    }\n",
       "</style>\n",
       "<table border=\"1\" class=\"dataframe\">\n",
       "  <thead>\n",
       "    <tr style=\"text-align: right;\">\n",
       "      <th></th>\n",
       "      <th>global_active_power</th>\n",
       "      <th>global_reactive_power</th>\n",
       "      <th>voltage</th>\n",
       "      <th>global_intensity</th>\n",
       "      <th>kitchen</th>\n",
       "      <th>laundry_room</th>\n",
       "      <th>thermal_utilities</th>\n",
       "      <th>day</th>\n",
       "      <th>month</th>\n",
       "      <th>year</th>\n",
       "    </tr>\n",
       "    <tr>\n",
       "      <th>datetime</th>\n",
       "      <th></th>\n",
       "      <th></th>\n",
       "      <th></th>\n",
       "      <th></th>\n",
       "      <th></th>\n",
       "      <th></th>\n",
       "      <th></th>\n",
       "      <th></th>\n",
       "      <th></th>\n",
       "      <th></th>\n",
       "    </tr>\n",
       "  </thead>\n",
       "  <tbody>\n",
       "    <tr>\n",
       "      <th>2006-12-16 17:24:00</th>\n",
       "      <td>4.216</td>\n",
       "      <td>0.418</td>\n",
       "      <td>234.84</td>\n",
       "      <td>18.4</td>\n",
       "      <td>0.0</td>\n",
       "      <td>1.0</td>\n",
       "      <td>17.0</td>\n",
       "      <td>16</td>\n",
       "      <td>12</td>\n",
       "      <td>2006</td>\n",
       "    </tr>\n",
       "    <tr>\n",
       "      <th>2006-12-16 17:25:00</th>\n",
       "      <td>5.360</td>\n",
       "      <td>0.436</td>\n",
       "      <td>233.63</td>\n",
       "      <td>23.0</td>\n",
       "      <td>0.0</td>\n",
       "      <td>1.0</td>\n",
       "      <td>16.0</td>\n",
       "      <td>16</td>\n",
       "      <td>12</td>\n",
       "      <td>2006</td>\n",
       "    </tr>\n",
       "    <tr>\n",
       "      <th>2006-12-16 17:26:00</th>\n",
       "      <td>5.374</td>\n",
       "      <td>0.498</td>\n",
       "      <td>233.29</td>\n",
       "      <td>23.0</td>\n",
       "      <td>0.0</td>\n",
       "      <td>2.0</td>\n",
       "      <td>17.0</td>\n",
       "      <td>16</td>\n",
       "      <td>12</td>\n",
       "      <td>2006</td>\n",
       "    </tr>\n",
       "    <tr>\n",
       "      <th>2006-12-16 17:27:00</th>\n",
       "      <td>5.388</td>\n",
       "      <td>0.502</td>\n",
       "      <td>233.74</td>\n",
       "      <td>23.0</td>\n",
       "      <td>0.0</td>\n",
       "      <td>1.0</td>\n",
       "      <td>17.0</td>\n",
       "      <td>16</td>\n",
       "      <td>12</td>\n",
       "      <td>2006</td>\n",
       "    </tr>\n",
       "    <tr>\n",
       "      <th>2006-12-16 17:28:00</th>\n",
       "      <td>3.666</td>\n",
       "      <td>0.528</td>\n",
       "      <td>235.68</td>\n",
       "      <td>15.8</td>\n",
       "      <td>0.0</td>\n",
       "      <td>1.0</td>\n",
       "      <td>17.0</td>\n",
       "      <td>16</td>\n",
       "      <td>12</td>\n",
       "      <td>2006</td>\n",
       "    </tr>\n",
       "  </tbody>\n",
       "</table>\n",
       "</div>"
      ],
      "text/plain": [
       "                     global_active_power  global_reactive_power  voltage  \\\n",
       "datetime                                                                   \n",
       "2006-12-16 17:24:00                4.216                  0.418   234.84   \n",
       "2006-12-16 17:25:00                5.360                  0.436   233.63   \n",
       "2006-12-16 17:26:00                5.374                  0.498   233.29   \n",
       "2006-12-16 17:27:00                5.388                  0.502   233.74   \n",
       "2006-12-16 17:28:00                3.666                  0.528   235.68   \n",
       "\n",
       "                     global_intensity  kitchen  laundry_room  \\\n",
       "datetime                                                       \n",
       "2006-12-16 17:24:00              18.4      0.0           1.0   \n",
       "2006-12-16 17:25:00              23.0      0.0           1.0   \n",
       "2006-12-16 17:26:00              23.0      0.0           2.0   \n",
       "2006-12-16 17:27:00              23.0      0.0           1.0   \n",
       "2006-12-16 17:28:00              15.8      0.0           1.0   \n",
       "\n",
       "                     thermal_utilities  day  month  year  \n",
       "datetime                                                  \n",
       "2006-12-16 17:24:00               17.0   16     12  2006  \n",
       "2006-12-16 17:25:00               16.0   16     12  2006  \n",
       "2006-12-16 17:26:00               17.0   16     12  2006  \n",
       "2006-12-16 17:27:00               17.0   16     12  2006  \n",
       "2006-12-16 17:28:00               17.0   16     12  2006  "
      ]
     },
     "execution_count": 103,
     "metadata": {},
     "output_type": "execute_result"
    }
   ],
   "source": [
    "df = pd.read_csv('../datasets/household_power_consumption_v3_drop.txt', parse_dates={'datetime' : ['date','time']}, index_col='datetime', sep=';', usecols=[1,2,3,4,5,6,7,8,9,11,12,13])\n",
    "df.head(5)"
   ]
  },
  {
   "cell_type": "markdown",
   "metadata": {},
   "source": [
    "### Preprocessing"
   ]
  },
  {
   "cell_type": "code",
   "execution_count": 104,
   "metadata": {},
   "outputs": [],
   "source": [
    "# rows = []\n",
    "\n",
    "# for _, row in df.iterrows():\n",
    "#     row_data = dict(\n",
    "#         grp=row.global_reactive_power,\n",
    "#         voltage=row.voltage,\n",
    "#         global_intensity=row.global_intensity,\n",
    "#         kitchen=row.kitchen,\n",
    "#         laundry_room=row.laundry_room,\n",
    "#         thermal_utilities=row.thermal_utilities,\n",
    "#         day=row.day,\n",
    "#         month=row.month,\n",
    "#         year=row.year\n",
    "#     )\n",
    "#     rows.append(row_data)\n",
    "# features_df = pd.DataFrame(rows)"
   ]
  },
  {
   "cell_type": "code",
   "execution_count": 105,
   "metadata": {},
   "outputs": [
    {
     "data": {
      "text/html": [
       "<div>\n",
       "<style scoped>\n",
       "    .dataframe tbody tr th:only-of-type {\n",
       "        vertical-align: middle;\n",
       "    }\n",
       "\n",
       "    .dataframe tbody tr th {\n",
       "        vertical-align: top;\n",
       "    }\n",
       "\n",
       "    .dataframe thead th {\n",
       "        text-align: right;\n",
       "    }\n",
       "</style>\n",
       "<table border=\"1\" class=\"dataframe\">\n",
       "  <thead>\n",
       "    <tr style=\"text-align: right;\">\n",
       "      <th></th>\n",
       "      <th>global_reactive_power</th>\n",
       "      <th>voltage</th>\n",
       "      <th>global_intensity</th>\n",
       "      <th>kitchen</th>\n",
       "      <th>laundry_room</th>\n",
       "      <th>thermal_utilities</th>\n",
       "      <th>day</th>\n",
       "      <th>month</th>\n",
       "      <th>year</th>\n",
       "      <th>global_active_power</th>\n",
       "    </tr>\n",
       "    <tr>\n",
       "      <th>datetime</th>\n",
       "      <th></th>\n",
       "      <th></th>\n",
       "      <th></th>\n",
       "      <th></th>\n",
       "      <th></th>\n",
       "      <th></th>\n",
       "      <th></th>\n",
       "      <th></th>\n",
       "      <th></th>\n",
       "      <th></th>\n",
       "    </tr>\n",
       "  </thead>\n",
       "  <tbody>\n",
       "    <tr>\n",
       "      <th>2006-12-16 17:24:00</th>\n",
       "      <td>0.418</td>\n",
       "      <td>234.84</td>\n",
       "      <td>18.4</td>\n",
       "      <td>0.0</td>\n",
       "      <td>1.0</td>\n",
       "      <td>17.0</td>\n",
       "      <td>16</td>\n",
       "      <td>12</td>\n",
       "      <td>2006</td>\n",
       "      <td>4.216</td>\n",
       "    </tr>\n",
       "    <tr>\n",
       "      <th>2006-12-16 17:25:00</th>\n",
       "      <td>0.436</td>\n",
       "      <td>233.63</td>\n",
       "      <td>23.0</td>\n",
       "      <td>0.0</td>\n",
       "      <td>1.0</td>\n",
       "      <td>16.0</td>\n",
       "      <td>16</td>\n",
       "      <td>12</td>\n",
       "      <td>2006</td>\n",
       "      <td>5.360</td>\n",
       "    </tr>\n",
       "    <tr>\n",
       "      <th>2006-12-16 17:26:00</th>\n",
       "      <td>0.498</td>\n",
       "      <td>233.29</td>\n",
       "      <td>23.0</td>\n",
       "      <td>0.0</td>\n",
       "      <td>2.0</td>\n",
       "      <td>17.0</td>\n",
       "      <td>16</td>\n",
       "      <td>12</td>\n",
       "      <td>2006</td>\n",
       "      <td>5.374</td>\n",
       "    </tr>\n",
       "    <tr>\n",
       "      <th>2006-12-16 17:27:00</th>\n",
       "      <td>0.502</td>\n",
       "      <td>233.74</td>\n",
       "      <td>23.0</td>\n",
       "      <td>0.0</td>\n",
       "      <td>1.0</td>\n",
       "      <td>17.0</td>\n",
       "      <td>16</td>\n",
       "      <td>12</td>\n",
       "      <td>2006</td>\n",
       "      <td>5.388</td>\n",
       "    </tr>\n",
       "    <tr>\n",
       "      <th>2006-12-16 17:28:00</th>\n",
       "      <td>0.528</td>\n",
       "      <td>235.68</td>\n",
       "      <td>15.8</td>\n",
       "      <td>0.0</td>\n",
       "      <td>1.0</td>\n",
       "      <td>17.0</td>\n",
       "      <td>16</td>\n",
       "      <td>12</td>\n",
       "      <td>2006</td>\n",
       "      <td>3.666</td>\n",
       "    </tr>\n",
       "    <tr>\n",
       "      <th>...</th>\n",
       "      <td>...</td>\n",
       "      <td>...</td>\n",
       "      <td>...</td>\n",
       "      <td>...</td>\n",
       "      <td>...</td>\n",
       "      <td>...</td>\n",
       "      <td>...</td>\n",
       "      <td>...</td>\n",
       "      <td>...</td>\n",
       "      <td>...</td>\n",
       "    </tr>\n",
       "    <tr>\n",
       "      <th>2010-11-26 20:58:00</th>\n",
       "      <td>0.000</td>\n",
       "      <td>240.43</td>\n",
       "      <td>4.0</td>\n",
       "      <td>0.0</td>\n",
       "      <td>0.0</td>\n",
       "      <td>0.0</td>\n",
       "      <td>26</td>\n",
       "      <td>11</td>\n",
       "      <td>2010</td>\n",
       "      <td>0.946</td>\n",
       "    </tr>\n",
       "    <tr>\n",
       "      <th>2010-11-26 20:59:00</th>\n",
       "      <td>0.000</td>\n",
       "      <td>240.00</td>\n",
       "      <td>4.0</td>\n",
       "      <td>0.0</td>\n",
       "      <td>0.0</td>\n",
       "      <td>0.0</td>\n",
       "      <td>26</td>\n",
       "      <td>11</td>\n",
       "      <td>2010</td>\n",
       "      <td>0.944</td>\n",
       "    </tr>\n",
       "    <tr>\n",
       "      <th>2010-11-26 21:00:00</th>\n",
       "      <td>0.000</td>\n",
       "      <td>239.82</td>\n",
       "      <td>3.8</td>\n",
       "      <td>0.0</td>\n",
       "      <td>0.0</td>\n",
       "      <td>0.0</td>\n",
       "      <td>26</td>\n",
       "      <td>11</td>\n",
       "      <td>2010</td>\n",
       "      <td>0.938</td>\n",
       "    </tr>\n",
       "    <tr>\n",
       "      <th>2010-11-26 21:01:00</th>\n",
       "      <td>0.000</td>\n",
       "      <td>239.70</td>\n",
       "      <td>3.8</td>\n",
       "      <td>0.0</td>\n",
       "      <td>0.0</td>\n",
       "      <td>0.0</td>\n",
       "      <td>26</td>\n",
       "      <td>11</td>\n",
       "      <td>2010</td>\n",
       "      <td>0.934</td>\n",
       "    </tr>\n",
       "    <tr>\n",
       "      <th>2010-11-26 21:02:00</th>\n",
       "      <td>0.000</td>\n",
       "      <td>239.55</td>\n",
       "      <td>3.8</td>\n",
       "      <td>0.0</td>\n",
       "      <td>0.0</td>\n",
       "      <td>0.0</td>\n",
       "      <td>26</td>\n",
       "      <td>11</td>\n",
       "      <td>2010</td>\n",
       "      <td>0.932</td>\n",
       "    </tr>\n",
       "  </tbody>\n",
       "</table>\n",
       "<p>2049280 rows × 10 columns</p>\n",
       "</div>"
      ],
      "text/plain": [
       "                     global_reactive_power  voltage  global_intensity  \\\n",
       "datetime                                                                \n",
       "2006-12-16 17:24:00                  0.418   234.84              18.4   \n",
       "2006-12-16 17:25:00                  0.436   233.63              23.0   \n",
       "2006-12-16 17:26:00                  0.498   233.29              23.0   \n",
       "2006-12-16 17:27:00                  0.502   233.74              23.0   \n",
       "2006-12-16 17:28:00                  0.528   235.68              15.8   \n",
       "...                                    ...      ...               ...   \n",
       "2010-11-26 20:58:00                  0.000   240.43               4.0   \n",
       "2010-11-26 20:59:00                  0.000   240.00               4.0   \n",
       "2010-11-26 21:00:00                  0.000   239.82               3.8   \n",
       "2010-11-26 21:01:00                  0.000   239.70               3.8   \n",
       "2010-11-26 21:02:00                  0.000   239.55               3.8   \n",
       "\n",
       "                     kitchen  laundry_room  thermal_utilities  day  month  \\\n",
       "datetime                                                                    \n",
       "2006-12-16 17:24:00      0.0           1.0               17.0   16     12   \n",
       "2006-12-16 17:25:00      0.0           1.0               16.0   16     12   \n",
       "2006-12-16 17:26:00      0.0           2.0               17.0   16     12   \n",
       "2006-12-16 17:27:00      0.0           1.0               17.0   16     12   \n",
       "2006-12-16 17:28:00      0.0           1.0               17.0   16     12   \n",
       "...                      ...           ...                ...  ...    ...   \n",
       "2010-11-26 20:58:00      0.0           0.0                0.0   26     11   \n",
       "2010-11-26 20:59:00      0.0           0.0                0.0   26     11   \n",
       "2010-11-26 21:00:00      0.0           0.0                0.0   26     11   \n",
       "2010-11-26 21:01:00      0.0           0.0                0.0   26     11   \n",
       "2010-11-26 21:02:00      0.0           0.0                0.0   26     11   \n",
       "\n",
       "                     year  global_active_power  \n",
       "datetime                                        \n",
       "2006-12-16 17:24:00  2006                4.216  \n",
       "2006-12-16 17:25:00  2006                5.360  \n",
       "2006-12-16 17:26:00  2006                5.374  \n",
       "2006-12-16 17:27:00  2006                5.388  \n",
       "2006-12-16 17:28:00  2006                3.666  \n",
       "...                   ...                  ...  \n",
       "2010-11-26 20:58:00  2010                0.946  \n",
       "2010-11-26 20:59:00  2010                0.944  \n",
       "2010-11-26 21:00:00  2010                0.938  \n",
       "2010-11-26 21:01:00  2010                0.934  \n",
       "2010-11-26 21:02:00  2010                0.932  \n",
       "\n",
       "[2049280 rows x 10 columns]"
      ]
     },
     "execution_count": 105,
     "metadata": {},
     "output_type": "execute_result"
    }
   ],
   "source": [
    "cols = ['global_reactive_power', 'voltage', 'global_intensity', 'kitchen', 'laundry_room', 'thermal_utilities', 'day', 'month', 'year', 'global_active_power']\n",
    "features_df = df[cols]\n",
    "features_df"
   ]
  },
  {
   "cell_type": "code",
   "execution_count": 106,
   "metadata": {},
   "outputs": [
    {
     "data": {
      "text/plain": [
       "450000"
      ]
     },
     "execution_count": 106,
     "metadata": {},
     "output_type": "execute_result"
    }
   ],
   "source": [
    "cut_df = features_df[:500000]\n",
    "train_size = int(len(cut_df) * .9)\n",
    "train_size"
   ]
  },
  {
   "cell_type": "code",
   "execution_count": 107,
   "metadata": {},
   "outputs": [
    {
     "data": {
      "text/plain": [
       "((450000, 10), (49999, 10))"
      ]
     },
     "execution_count": 107,
     "metadata": {},
     "output_type": "execute_result"
    }
   ],
   "source": [
    "train_df, test_df = cut_df[:train_size], cut_df[train_size + 1:]\n",
    "train_df.shape, test_df.shape"
   ]
  },
  {
   "cell_type": "code",
   "execution_count": 108,
   "metadata": {},
   "outputs": [],
   "source": [
    "# scalling data only using train df\n",
    "scaler = MinMaxScaler(feature_range=(-1,1))\n",
    "scaler = scaler.fit(train_df)"
   ]
  },
  {
   "cell_type": "code",
   "execution_count": 109,
   "metadata": {},
   "outputs": [
    {
     "data": {
      "text/html": [
       "<div>\n",
       "<style scoped>\n",
       "    .dataframe tbody tr th:only-of-type {\n",
       "        vertical-align: middle;\n",
       "    }\n",
       "\n",
       "    .dataframe tbody tr th {\n",
       "        vertical-align: top;\n",
       "    }\n",
       "\n",
       "    .dataframe thead th {\n",
       "        text-align: right;\n",
       "    }\n",
       "</style>\n",
       "<table border=\"1\" class=\"dataframe\">\n",
       "  <thead>\n",
       "    <tr style=\"text-align: right;\">\n",
       "      <th></th>\n",
       "      <th>global_reactive_power</th>\n",
       "      <th>voltage</th>\n",
       "      <th>global_intensity</th>\n",
       "      <th>kitchen</th>\n",
       "      <th>laundry_room</th>\n",
       "      <th>thermal_utilities</th>\n",
       "      <th>day</th>\n",
       "      <th>month</th>\n",
       "      <th>year</th>\n",
       "      <th>global_active_power</th>\n",
       "    </tr>\n",
       "    <tr>\n",
       "      <th>datetime</th>\n",
       "      <th></th>\n",
       "      <th></th>\n",
       "      <th></th>\n",
       "      <th></th>\n",
       "      <th></th>\n",
       "      <th></th>\n",
       "      <th></th>\n",
       "      <th></th>\n",
       "      <th></th>\n",
       "      <th></th>\n",
       "    </tr>\n",
       "  </thead>\n",
       "  <tbody>\n",
       "    <tr>\n",
       "      <th>2006-12-16 17:24:00</th>\n",
       "      <td>-0.271777</td>\n",
       "      <td>-0.195321</td>\n",
       "      <td>-0.217391</td>\n",
       "      <td>-1.0</td>\n",
       "      <td>-0.974359</td>\n",
       "      <td>0.7</td>\n",
       "      <td>0.0</td>\n",
       "      <td>1.0</td>\n",
       "      <td>-1.0</td>\n",
       "      <td>-0.219116</td>\n",
       "    </tr>\n",
       "    <tr>\n",
       "      <th>2006-12-16 17:25:00</th>\n",
       "      <td>-0.240418</td>\n",
       "      <td>-0.281106</td>\n",
       "      <td>-0.017391</td>\n",
       "      <td>-1.0</td>\n",
       "      <td>-0.974359</td>\n",
       "      <td>0.6</td>\n",
       "      <td>0.0</td>\n",
       "      <td>1.0</td>\n",
       "      <td>-1.0</td>\n",
       "      <td>-0.003022</td>\n",
       "    </tr>\n",
       "    <tr>\n",
       "      <th>2006-12-16 17:26:00</th>\n",
       "      <td>-0.132404</td>\n",
       "      <td>-0.305211</td>\n",
       "      <td>-0.017391</td>\n",
       "      <td>-1.0</td>\n",
       "      <td>-0.948718</td>\n",
       "      <td>0.7</td>\n",
       "      <td>0.0</td>\n",
       "      <td>1.0</td>\n",
       "      <td>-1.0</td>\n",
       "      <td>-0.000378</td>\n",
       "    </tr>\n",
       "  </tbody>\n",
       "</table>\n",
       "</div>"
      ],
      "text/plain": [
       "                     global_reactive_power   voltage  global_intensity  \\\n",
       "datetime                                                                 \n",
       "2006-12-16 17:24:00              -0.271777 -0.195321         -0.217391   \n",
       "2006-12-16 17:25:00              -0.240418 -0.281106         -0.017391   \n",
       "2006-12-16 17:26:00              -0.132404 -0.305211         -0.017391   \n",
       "\n",
       "                     kitchen  laundry_room  thermal_utilities  day  month  \\\n",
       "datetime                                                                    \n",
       "2006-12-16 17:24:00     -1.0     -0.974359                0.7  0.0    1.0   \n",
       "2006-12-16 17:25:00     -1.0     -0.974359                0.6  0.0    1.0   \n",
       "2006-12-16 17:26:00     -1.0     -0.948718                0.7  0.0    1.0   \n",
       "\n",
       "                     year  global_active_power  \n",
       "datetime                                        \n",
       "2006-12-16 17:24:00  -1.0            -0.219116  \n",
       "2006-12-16 17:25:00  -1.0            -0.003022  \n",
       "2006-12-16 17:26:00  -1.0            -0.000378  "
      ]
     },
     "execution_count": 109,
     "metadata": {},
     "output_type": "execute_result"
    }
   ],
   "source": [
    "train_df = pd.DataFrame(\n",
    "    scaler.transform(train_df), \n",
    "    index=train_df.index, \n",
    "    columns=train_df.columns)\n",
    "train_df.head(3)"
   ]
  },
  {
   "cell_type": "code",
   "execution_count": 110,
   "metadata": {},
   "outputs": [
    {
     "data": {
      "text/html": [
       "<div>\n",
       "<style scoped>\n",
       "    .dataframe tbody tr th:only-of-type {\n",
       "        vertical-align: middle;\n",
       "    }\n",
       "\n",
       "    .dataframe tbody tr th {\n",
       "        vertical-align: top;\n",
       "    }\n",
       "\n",
       "    .dataframe thead th {\n",
       "        text-align: right;\n",
       "    }\n",
       "</style>\n",
       "<table border=\"1\" class=\"dataframe\">\n",
       "  <thead>\n",
       "    <tr style=\"text-align: right;\">\n",
       "      <th></th>\n",
       "      <th>global_reactive_power</th>\n",
       "      <th>voltage</th>\n",
       "      <th>global_intensity</th>\n",
       "      <th>kitchen</th>\n",
       "      <th>laundry_room</th>\n",
       "      <th>thermal_utilities</th>\n",
       "      <th>day</th>\n",
       "      <th>month</th>\n",
       "      <th>year</th>\n",
       "      <th>global_active_power</th>\n",
       "    </tr>\n",
       "    <tr>\n",
       "      <th>datetime</th>\n",
       "      <th></th>\n",
       "      <th></th>\n",
       "      <th></th>\n",
       "      <th></th>\n",
       "      <th></th>\n",
       "      <th></th>\n",
       "      <th></th>\n",
       "      <th></th>\n",
       "      <th></th>\n",
       "      <th></th>\n",
       "    </tr>\n",
       "  </thead>\n",
       "  <tbody>\n",
       "    <tr>\n",
       "      <th>2007-10-27 22:57:00</th>\n",
       "      <td>-1.000000</td>\n",
       "      <td>0.453385</td>\n",
       "      <td>-0.982609</td>\n",
       "      <td>-1.0</td>\n",
       "      <td>-1.0</td>\n",
       "      <td>-1.0</td>\n",
       "      <td>0.733333</td>\n",
       "      <td>0.636364</td>\n",
       "      <td>1.0</td>\n",
       "      <td>-0.976199</td>\n",
       "    </tr>\n",
       "    <tr>\n",
       "      <th>2007-10-27 22:58:00</th>\n",
       "      <td>-0.850174</td>\n",
       "      <td>0.450549</td>\n",
       "      <td>-0.956522</td>\n",
       "      <td>-1.0</td>\n",
       "      <td>-1.0</td>\n",
       "      <td>-1.0</td>\n",
       "      <td>0.733333</td>\n",
       "      <td>0.636364</td>\n",
       "      <td>1.0</td>\n",
       "      <td>-0.958444</td>\n",
       "    </tr>\n",
       "    <tr>\n",
       "      <th>2007-10-27 22:59:00</th>\n",
       "      <td>-0.850174</td>\n",
       "      <td>0.441333</td>\n",
       "      <td>-0.965217</td>\n",
       "      <td>-1.0</td>\n",
       "      <td>-1.0</td>\n",
       "      <td>-1.0</td>\n",
       "      <td>0.733333</td>\n",
       "      <td>0.636364</td>\n",
       "      <td>1.0</td>\n",
       "      <td>-0.961844</td>\n",
       "    </tr>\n",
       "  </tbody>\n",
       "</table>\n",
       "</div>"
      ],
      "text/plain": [
       "                     global_reactive_power   voltage  global_intensity  \\\n",
       "datetime                                                                 \n",
       "2007-10-27 22:57:00              -1.000000  0.453385         -0.982609   \n",
       "2007-10-27 22:58:00              -0.850174  0.450549         -0.956522   \n",
       "2007-10-27 22:59:00              -0.850174  0.441333         -0.965217   \n",
       "\n",
       "                     kitchen  laundry_room  thermal_utilities       day  \\\n",
       "datetime                                                                  \n",
       "2007-10-27 22:57:00     -1.0          -1.0               -1.0  0.733333   \n",
       "2007-10-27 22:58:00     -1.0          -1.0               -1.0  0.733333   \n",
       "2007-10-27 22:59:00     -1.0          -1.0               -1.0  0.733333   \n",
       "\n",
       "                        month  year  global_active_power  \n",
       "datetime                                                  \n",
       "2007-10-27 22:57:00  0.636364   1.0            -0.976199  \n",
       "2007-10-27 22:58:00  0.636364   1.0            -0.958444  \n",
       "2007-10-27 22:59:00  0.636364   1.0            -0.961844  "
      ]
     },
     "execution_count": 110,
     "metadata": {},
     "output_type": "execute_result"
    }
   ],
   "source": [
    "test_df = pd.DataFrame(\n",
    "    scaler.transform(test_df), \n",
    "    index=test_df.index, \n",
    "    columns=test_df.columns)\n",
    "test_df.head(3)"
   ]
  },
  {
   "cell_type": "markdown",
   "metadata": {},
   "source": [
    "__To sequences__"
   ]
  },
  {
   "cell_type": "code",
   "execution_count": 111,
   "metadata": {},
   "outputs": [],
   "source": [
    "def create_sequences(input_data: pd.DataFrame, target_column, sequence_length, offset = 1):\n",
    "    sequences = []\n",
    "    data_size = len(input_data)\n",
    "    \n",
    "    for i in range(data_size - sequence_length):\n",
    "        sequence = input_data[i:i+sequence_length]\n",
    "        \n",
    "        label_poisition = i+sequence_length\n",
    "        label = input_data.iloc[label_poisition:label_poisition+offset][target_column]\n",
    "        \n",
    "        sequences.append((sequence, label))\n",
    "        \n",
    "    return sequences"
   ]
  },
  {
   "cell_type": "code",
   "execution_count": 112,
   "metadata": {},
   "outputs": [
    {
     "data": {
      "text/html": [
       "<div>\n",
       "<style scoped>\n",
       "    .dataframe tbody tr th:only-of-type {\n",
       "        vertical-align: middle;\n",
       "    }\n",
       "\n",
       "    .dataframe tbody tr th {\n",
       "        vertical-align: top;\n",
       "    }\n",
       "\n",
       "    .dataframe thead th {\n",
       "        text-align: right;\n",
       "    }\n",
       "</style>\n",
       "<table border=\"1\" class=\"dataframe\">\n",
       "  <thead>\n",
       "    <tr style=\"text-align: right;\">\n",
       "      <th></th>\n",
       "      <th>global_reactive_power</th>\n",
       "      <th>voltage</th>\n",
       "      <th>global_intensity</th>\n",
       "      <th>kitchen</th>\n",
       "      <th>laundry_room</th>\n",
       "      <th>thermal_utilities</th>\n",
       "      <th>day</th>\n",
       "      <th>month</th>\n",
       "      <th>year</th>\n",
       "      <th>global_active_power</th>\n",
       "    </tr>\n",
       "    <tr>\n",
       "      <th>datetime</th>\n",
       "      <th></th>\n",
       "      <th></th>\n",
       "      <th></th>\n",
       "      <th></th>\n",
       "      <th></th>\n",
       "      <th></th>\n",
       "      <th></th>\n",
       "      <th></th>\n",
       "      <th></th>\n",
       "      <th></th>\n",
       "    </tr>\n",
       "  </thead>\n",
       "  <tbody>\n",
       "    <tr>\n",
       "      <th>2006-12-16 17:24:00</th>\n",
       "      <td>-0.271777</td>\n",
       "      <td>-0.195321</td>\n",
       "      <td>-0.217391</td>\n",
       "      <td>-1.0</td>\n",
       "      <td>-0.974359</td>\n",
       "      <td>0.7</td>\n",
       "      <td>0.000000</td>\n",
       "      <td>1.000000</td>\n",
       "      <td>-1.0</td>\n",
       "      <td>-0.219116</td>\n",
       "    </tr>\n",
       "    <tr>\n",
       "      <th>2006-12-16 17:25:00</th>\n",
       "      <td>-0.240418</td>\n",
       "      <td>-0.281106</td>\n",
       "      <td>-0.017391</td>\n",
       "      <td>-1.0</td>\n",
       "      <td>-0.974359</td>\n",
       "      <td>0.6</td>\n",
       "      <td>0.000000</td>\n",
       "      <td>1.000000</td>\n",
       "      <td>-1.0</td>\n",
       "      <td>-0.003022</td>\n",
       "    </tr>\n",
       "    <tr>\n",
       "      <th>2006-12-16 17:26:00</th>\n",
       "      <td>-0.132404</td>\n",
       "      <td>-0.305211</td>\n",
       "      <td>-0.017391</td>\n",
       "      <td>-1.0</td>\n",
       "      <td>-0.948718</td>\n",
       "      <td>0.7</td>\n",
       "      <td>0.000000</td>\n",
       "      <td>1.000000</td>\n",
       "      <td>-1.0</td>\n",
       "      <td>-0.000378</td>\n",
       "    </tr>\n",
       "    <tr>\n",
       "      <th>2006-12-16 17:27:00</th>\n",
       "      <td>-0.125436</td>\n",
       "      <td>-0.273307</td>\n",
       "      <td>-0.017391</td>\n",
       "      <td>-1.0</td>\n",
       "      <td>-0.974359</td>\n",
       "      <td>0.7</td>\n",
       "      <td>0.000000</td>\n",
       "      <td>1.000000</td>\n",
       "      <td>-1.0</td>\n",
       "      <td>0.002267</td>\n",
       "    </tr>\n",
       "    <tr>\n",
       "      <th>2006-12-16 17:28:00</th>\n",
       "      <td>-0.080139</td>\n",
       "      <td>-0.135767</td>\n",
       "      <td>-0.330435</td>\n",
       "      <td>-1.0</td>\n",
       "      <td>-0.974359</td>\n",
       "      <td>0.7</td>\n",
       "      <td>0.000000</td>\n",
       "      <td>1.000000</td>\n",
       "      <td>-1.0</td>\n",
       "      <td>-0.323007</td>\n",
       "    </tr>\n",
       "    <tr>\n",
       "      <th>...</th>\n",
       "      <td>...</td>\n",
       "      <td>...</td>\n",
       "      <td>...</td>\n",
       "      <td>...</td>\n",
       "      <td>...</td>\n",
       "      <td>...</td>\n",
       "      <td>...</td>\n",
       "      <td>...</td>\n",
       "      <td>...</td>\n",
       "      <td>...</td>\n",
       "    </tr>\n",
       "    <tr>\n",
       "      <th>2007-10-27 22:51:00</th>\n",
       "      <td>-1.000000</td>\n",
       "      <td>0.431407</td>\n",
       "      <td>-0.982609</td>\n",
       "      <td>-1.0</td>\n",
       "      <td>-1.000000</td>\n",
       "      <td>-1.0</td>\n",
       "      <td>0.733333</td>\n",
       "      <td>0.636364</td>\n",
       "      <td>1.0</td>\n",
       "      <td>-0.976199</td>\n",
       "    </tr>\n",
       "    <tr>\n",
       "      <th>2007-10-27 22:52:00</th>\n",
       "      <td>-1.000000</td>\n",
       "      <td>0.463311</td>\n",
       "      <td>-0.982609</td>\n",
       "      <td>-1.0</td>\n",
       "      <td>-1.000000</td>\n",
       "      <td>-1.0</td>\n",
       "      <td>0.733333</td>\n",
       "      <td>0.636364</td>\n",
       "      <td>1.0</td>\n",
       "      <td>-0.976199</td>\n",
       "    </tr>\n",
       "    <tr>\n",
       "      <th>2007-10-27 22:53:00</th>\n",
       "      <td>-1.000000</td>\n",
       "      <td>0.473945</td>\n",
       "      <td>-0.982609</td>\n",
       "      <td>-1.0</td>\n",
       "      <td>-1.000000</td>\n",
       "      <td>-1.0</td>\n",
       "      <td>0.733333</td>\n",
       "      <td>0.636364</td>\n",
       "      <td>1.0</td>\n",
       "      <td>-0.976199</td>\n",
       "    </tr>\n",
       "    <tr>\n",
       "      <th>2007-10-27 22:54:00</th>\n",
       "      <td>-1.000000</td>\n",
       "      <td>0.461184</td>\n",
       "      <td>-0.982609</td>\n",
       "      <td>-1.0</td>\n",
       "      <td>-1.000000</td>\n",
       "      <td>-1.0</td>\n",
       "      <td>0.733333</td>\n",
       "      <td>0.636364</td>\n",
       "      <td>1.0</td>\n",
       "      <td>-0.976199</td>\n",
       "    </tr>\n",
       "    <tr>\n",
       "      <th>2007-10-27 22:55:00</th>\n",
       "      <td>-1.000000</td>\n",
       "      <td>0.455512</td>\n",
       "      <td>-0.982609</td>\n",
       "      <td>-1.0</td>\n",
       "      <td>-1.000000</td>\n",
       "      <td>-1.0</td>\n",
       "      <td>0.733333</td>\n",
       "      <td>0.636364</td>\n",
       "      <td>1.0</td>\n",
       "      <td>-0.976199</td>\n",
       "    </tr>\n",
       "  </tbody>\n",
       "</table>\n",
       "<p>450000 rows × 10 columns</p>\n",
       "</div>"
      ],
      "text/plain": [
       "                     global_reactive_power   voltage  global_intensity  \\\n",
       "datetime                                                                 \n",
       "2006-12-16 17:24:00              -0.271777 -0.195321         -0.217391   \n",
       "2006-12-16 17:25:00              -0.240418 -0.281106         -0.017391   \n",
       "2006-12-16 17:26:00              -0.132404 -0.305211         -0.017391   \n",
       "2006-12-16 17:27:00              -0.125436 -0.273307         -0.017391   \n",
       "2006-12-16 17:28:00              -0.080139 -0.135767         -0.330435   \n",
       "...                                    ...       ...               ...   \n",
       "2007-10-27 22:51:00              -1.000000  0.431407         -0.982609   \n",
       "2007-10-27 22:52:00              -1.000000  0.463311         -0.982609   \n",
       "2007-10-27 22:53:00              -1.000000  0.473945         -0.982609   \n",
       "2007-10-27 22:54:00              -1.000000  0.461184         -0.982609   \n",
       "2007-10-27 22:55:00              -1.000000  0.455512         -0.982609   \n",
       "\n",
       "                     kitchen  laundry_room  thermal_utilities       day  \\\n",
       "datetime                                                                  \n",
       "2006-12-16 17:24:00     -1.0     -0.974359                0.7  0.000000   \n",
       "2006-12-16 17:25:00     -1.0     -0.974359                0.6  0.000000   \n",
       "2006-12-16 17:26:00     -1.0     -0.948718                0.7  0.000000   \n",
       "2006-12-16 17:27:00     -1.0     -0.974359                0.7  0.000000   \n",
       "2006-12-16 17:28:00     -1.0     -0.974359                0.7  0.000000   \n",
       "...                      ...           ...                ...       ...   \n",
       "2007-10-27 22:51:00     -1.0     -1.000000               -1.0  0.733333   \n",
       "2007-10-27 22:52:00     -1.0     -1.000000               -1.0  0.733333   \n",
       "2007-10-27 22:53:00     -1.0     -1.000000               -1.0  0.733333   \n",
       "2007-10-27 22:54:00     -1.0     -1.000000               -1.0  0.733333   \n",
       "2007-10-27 22:55:00     -1.0     -1.000000               -1.0  0.733333   \n",
       "\n",
       "                        month  year  global_active_power  \n",
       "datetime                                                  \n",
       "2006-12-16 17:24:00  1.000000  -1.0            -0.219116  \n",
       "2006-12-16 17:25:00  1.000000  -1.0            -0.003022  \n",
       "2006-12-16 17:26:00  1.000000  -1.0            -0.000378  \n",
       "2006-12-16 17:27:00  1.000000  -1.0             0.002267  \n",
       "2006-12-16 17:28:00  1.000000  -1.0            -0.323007  \n",
       "...                       ...   ...                  ...  \n",
       "2007-10-27 22:51:00  0.636364   1.0            -0.976199  \n",
       "2007-10-27 22:52:00  0.636364   1.0            -0.976199  \n",
       "2007-10-27 22:53:00  0.636364   1.0            -0.976199  \n",
       "2007-10-27 22:54:00  0.636364   1.0            -0.976199  \n",
       "2007-10-27 22:55:00  0.636364   1.0            -0.976199  \n",
       "\n",
       "[450000 rows x 10 columns]"
      ]
     },
     "execution_count": 112,
     "metadata": {},
     "output_type": "execute_result"
    }
   ],
   "source": [
    "input_data = train_df[:100]\n",
    "\n",
    "train_df[:500000]"
   ]
  },
  {
   "cell_type": "code",
   "execution_count": 113,
   "metadata": {},
   "outputs": [],
   "source": [
    "train_seq = create_sequences(input_data, 'global_active_power', 20, 1)"
   ]
  },
  {
   "cell_type": "code",
   "execution_count": 114,
   "metadata": {},
   "outputs": [
    {
     "name": "stdout",
     "output_type": "stream",
     "text": [
      "Train sequence shape (features): (20, 10); (labels): (1,)\n"
     ]
    }
   ],
   "source": [
    "print(f'Train sequence shape (features): {train_seq[0][0].shape}; (labels): {train_seq[0][1].shape}')"
   ]
  },
  {
   "cell_type": "code",
   "execution_count": 115,
   "metadata": {},
   "outputs": [],
   "source": [
    "num_seq = 60 # 60 minutes\n",
    "offset = 1\n",
    "train_sequences = create_sequences(train_df, 'global_active_power', num_seq, offset)\n",
    "test_sequences = create_sequences(test_df, 'global_active_power', num_seq, offset)\n"
   ]
  },
  {
   "cell_type": "markdown",
   "metadata": {},
   "source": [
    "### Create pytorch dataset (time-series)\n",
    "\n",
    "https://www.youtube.com/watch?v=ODEGJ_kh2aA"
   ]
  },
  {
   "cell_type": "code",
   "execution_count": 116,
   "metadata": {},
   "outputs": [],
   "source": [
    "class PCDataset(Dataset):\n",
    "    def __init__(self, sequences):\n",
    "        # super().__init__()\n",
    "        self.sequences = sequences\n",
    "    def __len__(self):\n",
    "        return len(self.sequences)\n",
    "    def __getitem__(self, index):\n",
    "        sequence, label = self.sequences[index]\n",
    "        return dict(\n",
    "            sequence = torch.Tensor(sequence.to_numpy()).to(device='cuda') if torch.cuda.is_available() else torch.Tensor(sequence.to_numpy()), # put to cuda device if available\n",
    "            label = torch.Tensor(label).float().to(device='cuda') if torch.cuda.is_available() else torch.Tensor(label).float() # put to cuda device if available\n",
    "        )\n",
    "        "
   ]
  },
  {
   "cell_type": "code",
   "execution_count": null,
   "metadata": {},
   "outputs": [],
   "source": []
  },
  {
   "cell_type": "code",
   "execution_count": 117,
   "metadata": {},
   "outputs": [],
   "source": [
    "class PCDataModule(pl.LightningDataModule):\n",
    "    def __init__(self, train_sequences, test_sequences, batch_size=8):\n",
    "        super().__init__()\n",
    "        self.train_sequences = train_sequences\n",
    "        self.test_sequences = test_sequences\n",
    "        self.batch_size = batch_size\n",
    "        print('batch size', self.batch_size)\n",
    "    def setup(self, stage=None):\n",
    "        self.train_dataset = PCDataset(self.train_sequences)\n",
    "        self.test_dataset = PCDataset(self.test_sequences)\n",
    "        \n",
    "    def train_dataloader(self):\n",
    "        return DataLoader(\n",
    "            self.train_dataset,\n",
    "            batch_size=self.batch_size,\n",
    "            shuffle=False,\n",
    "            # num_workers=2\n",
    "        )\n",
    "        \n",
    "    def val_dataloader(self):\n",
    "        return DataLoader(\n",
    "            self.test_dataset,\n",
    "            batch_size=self.batch_size,\n",
    "            shuffle=False,\n",
    "            # num_workers=2\n",
    "        )\n",
    "    def test_dataloader(self):\n",
    "        return DataLoader(\n",
    "            self.test_dataset,\n",
    "            batch_size=self.batch_size,\n",
    "            shuffle=False,\n",
    "            # num_workers=2\n",
    "        )"
   ]
  },
  {
   "cell_type": "code",
   "execution_count": 118,
   "metadata": {},
   "outputs": [],
   "source": [
    "# # d = PCDataModule(train_sequences, test_sequences)\n",
    "# dl = DataLoader(\n",
    "#     PCDataset(train_sequences),\n",
    "#     batch_size=8,\n",
    "#     shuffle=False\n",
    "# )\n",
    "\n",
    "# for d in dl:\n",
    "#     print(d['sequence'].shape)\n",
    "#     break"
   ]
  },
  {
   "cell_type": "code",
   "execution_count": 119,
   "metadata": {},
   "outputs": [
    {
     "name": "stdout",
     "output_type": "stream",
     "text": [
      "batch size 64\n"
     ]
    }
   ],
   "source": [
    "num_epoch = 5\n",
    "batch_size = 64\n",
    "\n",
    "data_module = PCDataModule(train_sequences, test_sequences, batch_size)\n",
    "data_module.setup()"
   ]
  },
  {
   "cell_type": "code",
   "execution_count": 120,
   "metadata": {},
   "outputs": [],
   "source": [
    "train_dataset = PCDataset(train_sequences)"
   ]
  },
  {
   "cell_type": "code",
   "execution_count": 121,
   "metadata": {},
   "outputs": [
    {
     "data": {
      "text/plain": [
       "449940"
      ]
     },
     "execution_count": 121,
     "metadata": {},
     "output_type": "execute_result"
    }
   ],
   "source": [
    "len(train_sequences)"
   ]
  },
  {
   "cell_type": "code",
   "execution_count": 122,
   "metadata": {},
   "outputs": [
    {
     "name": "stdout",
     "output_type": "stream",
     "text": [
      "torch.Size([60, 10])\n"
     ]
    }
   ],
   "source": [
    "# train_dataset.__len__()\n",
    "\n",
    "for item in train_dataset:\n",
    "    print(item['sequence'].shape)\n",
    "    break\n",
    "    print(item['sequence'].shape)\n",
    "    print(item['label'].shape)\n",
    "    print(item['label'])\n",
    "    break"
   ]
  },
  {
   "cell_type": "markdown",
   "metadata": {},
   "source": [
    "### Model"
   ]
  },
  {
   "cell_type": "code",
   "execution_count": 149,
   "metadata": {},
   "outputs": [
    {
     "name": "stdout",
     "output_type": "stream",
     "text": [
      "input_size: torch.Size([3, 256, 16000])\n",
      "kernel_size: torch.Size([128, 256, 2])\n",
      "kernel_size_2: torch.Size([128, 128, 2])\n",
      "output_size_1: torch.Size([3, 128, 15999])\n",
      "output_size_pool: torch.Size([3, 128, 7999])\n",
      "output_size_2: torch.Size([3, 128, 7998])\n",
      "output_size_pool: torch.Size([3, 128, 3999])\n",
      "flat (view) 511872\n",
      "tensor([[-0.0600,  0.2360,  0.1026,  0.0060, -0.0886, -0.0686,  0.0971, -0.0038,\n",
      "          0.1756,  0.0102,  0.0532, -0.1457, -0.1318, -0.0633, -0.0497,  0.0701,\n",
      "         -0.0694, -0.0244,  0.1059,  0.0392, -0.0494,  0.0237,  0.0265,  0.0553,\n",
      "          0.0591, -0.1677, -0.0976,  0.0444, -0.1427, -0.0662, -0.0331, -0.1374,\n",
      "          0.1616,  0.0679,  0.0399,  0.1192,  0.1520, -0.0589, -0.1679, -0.1455,\n",
      "         -0.1165, -0.1059,  0.0700, -0.1544, -0.0903,  0.2164, -0.0477,  0.1205,\n",
      "         -0.1234,  0.0764, -0.0674, -0.1320,  0.0253,  0.1204, -0.0124,  0.0057,\n",
      "          0.0003, -0.0927,  0.0570,  0.0613],\n",
      "        [-0.0729,  0.2019,  0.1065, -0.0249, -0.0618, -0.0803,  0.0721, -0.0009,\n",
      "          0.1715,  0.0221,  0.0911, -0.1555, -0.1170, -0.0704, -0.0323,  0.0853,\n",
      "         -0.0783,  0.0010,  0.1112,  0.0263, -0.0534,  0.0268,  0.0101,  0.0531,\n",
      "          0.0506, -0.1692, -0.0947,  0.0399, -0.1580, -0.0713, -0.0302, -0.1506,\n",
      "          0.1634,  0.0470,  0.0499,  0.1119,  0.1517, -0.0563, -0.1693, -0.1601,\n",
      "         -0.1143, -0.1194,  0.0731, -0.1721, -0.0999,  0.2083, -0.0285,  0.1096,\n",
      "         -0.1297,  0.0790, -0.0462, -0.1037,  0.0172,  0.1442, -0.0212,  0.0072,\n",
      "         -0.0127, -0.0978,  0.0448,  0.0789],\n",
      "        [-0.0984,  0.2271,  0.1133, -0.0222, -0.0885, -0.0910,  0.1019, -0.0043,\n",
      "          0.1698,  0.0150,  0.0754, -0.1575, -0.0882, -0.0703, -0.0376,  0.0887,\n",
      "         -0.0725, -0.0125,  0.1288,  0.0318, -0.0610,  0.0184,  0.0307,  0.0584,\n",
      "          0.0445, -0.1593, -0.1053,  0.0471, -0.1332, -0.0535, -0.0212, -0.1395,\n",
      "          0.1574,  0.0702,  0.0231,  0.1227,  0.1660, -0.0515, -0.1722, -0.1607,\n",
      "         -0.1327, -0.0933,  0.0626, -0.1571, -0.0997,  0.2165, -0.0447,  0.1175,\n",
      "         -0.1157,  0.0798, -0.0847, -0.1110,  0.0177,  0.1318, -0.0157,  0.0280,\n",
      "         -0.0191, -0.0922,  0.0395,  0.0430]], grad_fn=<AddmmBackward0>)\n"
     ]
    }
   ],
   "source": [
    "batch_size = 3\n",
    "feature_dim = 256\n",
    "time_step = 16000\n",
    "hidden_channels = 128\n",
    "\n",
    "x = torch.rand(batch_size, feature_dim, time_step)\n",
    "print('input_size:', x.shape)\n",
    "\n",
    "conv1 = nn.Conv1d(\n",
    "    in_channels=feature_dim,\n",
    "    out_channels=hidden_channels,\n",
    "    kernel_size=2\n",
    ") # feature_dim, hidden_channels, kernel_size=2\n",
    "print('kernel_size:', conv1.weight.shape)\n",
    "\n",
    "conv2 = nn.Conv1d(\n",
    "    in_channels=hidden_channels,\n",
    "    out_channels=hidden_channels,\n",
    "    kernel_size=2\n",
    ")\n",
    "print('kernel_size_2:', conv2.weight.shape)\n",
    "\n",
    "\n",
    "# POOL 1D\n",
    "pool1 = nn.MaxPool1d(kernel_size=2, stride=2)\n",
    "pool2 = nn.MaxPool1d(kernel_size=2, stride=2)\n",
    "\n",
    "\n",
    "# NETWORK\n",
    "out = conv1(x)\n",
    "print('output_size_1:',out.shape)\n",
    "out = out.relu()\n",
    "out = pool1(out)\n",
    "print('output_size_pool:',out.shape)\n",
    "\n",
    "\n",
    "out = conv2(out)\n",
    "print('output_size_2:',out.shape)\n",
    "out = out.relu()\n",
    "out = pool2(out)\n",
    "print('output_size_pool:',out.shape)\n",
    "out.shape\n",
    "\n",
    "out = torch.flatten(out, start_dim=1)\n",
    "print('flat (view)', out.shape[1])\n",
    "\n",
    "lin = nn.Linear(in_features=out.shape[1], out_features=32)\n",
    "lin2 = nn.Linear(in_features=32, out_features=60)\n",
    "\n",
    "out = lin(out)\n",
    "y = lin2(out)\n",
    "print(y)"
   ]
  },
  {
   "cell_type": "code",
   "execution_count": null,
   "metadata": {},
   "outputs": [],
   "source": []
  },
  {
   "cell_type": "code",
   "execution_count": 124,
   "metadata": {},
   "outputs": [],
   "source": [
    "# CNN\n",
    "class Model(nn.Module):\n",
    "    def __init__(self, n_features, n_hidden=64, kernel_size=2):\n",
    "        super(Model, self).__init__()\n",
    "        self.n_hidden = n_hidden\n",
    "        \n",
    "        # convolution layer\n",
    "        self.conv1 = nn.Conv1d(in_channels=n_features, out_channels=n_hidden, kernel_size=kernel_size)\n",
    "        self.conv2 = nn.Conv1d(in_channels=n_hidden, out_channels=n_hidden, kernel_size=kernel_size)\n",
    "        \n",
    "        # pooling layer\n",
    "        self.pool1 = nn.MaxPool1d(kernel_size=kernel_size, stride=2)\n",
    "        self.pool2 = nn.MaxPool1d(kernel_size=kernel_size, stride=2)\n",
    "        \n",
    "        # linear\n",
    "        self.lin1 = nn.Linear(in_features=hidden_channels, out_features=32)\n",
    "        self.lin2 = nn.Linear(in_features=32, out_features=1)\n",
    "    \n",
    "    def forward(self, x):\n",
    "        # conv1\n",
    "        x = self.conv1(x)\n",
    "        x = x.relu()\n",
    "        x = self.pool1(x)\n",
    "        \n",
    "        # conv2\n",
    "        x = self.conv2(x)\n",
    "        x = x.relu()\n",
    "        x = self.pool2(x)\n",
    "        \n",
    "        # flatten\n",
    "        x = torch.flatten(x, start_dim=1)\n",
    "        \n",
    "        # Dynamically create linear layers if not already created\n",
    "        if self.lin1 is None:\n",
    "            n_size = x.size(1)\n",
    "            self.lin1 = nn.Linear(n_size, 32)\n",
    "            self.lin2 = nn.Linear(32, 1)\n",
    "\n",
    "        # Linear layers\n",
    "        x = self.lin1(x)\n",
    "        x = F.relu(x)\n",
    "        x = self.lin2(x)"
   ]
  },
  {
   "cell_type": "code",
   "execution_count": 125,
   "metadata": {},
   "outputs": [],
   "source": [
    "# class Model(nn.Module):\n",
    "#     def __init__(self, n_features, n_hidden=128, n_layers=2) -> None:\n",
    "#         super().__init__()\n",
    "#         self.n_hidden = n_hidden\n",
    "#         self.lstm = nn.LSTM(\n",
    "#             input_size=n_features, #input feature\n",
    "#             hidden_size=n_hidden,\n",
    "#             batch_first=True,\n",
    "#             num_layers=n_layers,\n",
    "#             dropout=0.2\n",
    "#         )\n",
    "        \n",
    "#         self.regressor = nn.Linear(n_hidden, 1) # final layer for prediction\n",
    "        \n",
    "#     def forward(self, x):\n",
    "#         self.lstm.flatten_parameters()\n",
    "        \n",
    "#         _, (hidden, _) = self.lstm(x) # take the hidden state\n",
    "#         out = hidden[-1] # take the last layer, which contains the features\n",
    "        \n",
    "#         return self.regressor(out)"
   ]
  },
  {
   "cell_type": "code",
   "execution_count": 126,
   "metadata": {},
   "outputs": [],
   "source": [
    "from typing import Any\n",
    "\n",
    "\n",
    "from pytorch_lightning.utilities.types import STEP_OUTPUT, OptimizerLRScheduler\n",
    "\n",
    "\n",
    "class PCPredictor(pl.LightningModule):\n",
    "    def __init__(self, n_features: int, model = Model):\n",
    "        super().__init__()\n",
    "        self.model = Model(n_features)\n",
    "        self.criterion = nn.MSELoss() #loss function\n",
    "    \n",
    "    def forward(self,x,labels=None):\n",
    "        output = self.model(x)\n",
    "        loss = 0\n",
    "        if labels is not None:\n",
    "            loss = self.criterion(output, labels.unsqueeze(dim=1))\n",
    "        return loss, output\n",
    "    \n",
    "    def training_step(self, batch, batch_index):\n",
    "        sequences = batch['sequence']\n",
    "        labels = batch['label']\n",
    "        \n",
    "        loss, outputs = self(sequences, labels)\n",
    "        \n",
    "        self.log('train_loss', loss, prog_bar=True, logger=True)\n",
    "        return loss\n",
    "    \n",
    "    def validation_step(self, batch, batch_index):\n",
    "        sequences = batch['sequence']\n",
    "        labels = batch['label']\n",
    "        \n",
    "        loss, outputs = self(sequences, labels)\n",
    "        \n",
    "        self.log('val_loss', loss, prog_bar=True, logger=True)\n",
    "        return loss\n",
    "    \n",
    "    def test_step(self, batch, batch_index):\n",
    "        sequences = batch['sequence']\n",
    "        labels = batch['label']\n",
    "        \n",
    "        loss, outputs = self(sequences, labels)\n",
    "        \n",
    "        self.log('test_loss', loss, prog_bar=True, logger=True)\n",
    "        return loss\n",
    "    \n",
    "    def configure_optimizers(self):# -> OptimizerLRScheduler:\n",
    "        return optim.Adam(self.parameters(), lr=0.0001)"
   ]
  },
  {
   "cell_type": "code",
   "execution_count": 127,
   "metadata": {},
   "outputs": [
    {
     "data": {
      "text/plain": [
       "(450000, 10)"
      ]
     },
     "execution_count": 127,
     "metadata": {},
     "output_type": "execute_result"
    }
   ],
   "source": [
    "train_df.shape"
   ]
  },
  {
   "cell_type": "code",
   "execution_count": 128,
   "metadata": {},
   "outputs": [],
   "source": [
    "model = PCPredictor(train_df.shape[1])"
   ]
  },
  {
   "cell_type": "code",
   "execution_count": 129,
   "metadata": {},
   "outputs": [
    {
     "data": {
      "text/plain": [
       "<torch.utils.data.dataloader.DataLoader at 0x1c010bd9790>"
      ]
     },
     "execution_count": 129,
     "metadata": {},
     "output_type": "execute_result"
    }
   ],
   "source": [
    "data_module.train_dataloader()"
   ]
  },
  {
   "cell_type": "code",
   "execution_count": 130,
   "metadata": {},
   "outputs": [
    {
     "name": "stdout",
     "output_type": "stream",
     "text": [
      "torch.Size([64, 60, 10])\n",
      "torch.Size([64, 1])\n"
     ]
    }
   ],
   "source": [
    "for item in data_module.train_dataloader():\n",
    "    # print(item.keys())\n",
    "    # break\n",
    "    print(item['sequence'].shape)\n",
    "    print(item['label'].shape)\n",
    "    # print(item['label'])\n",
    "    \n",
    "    break"
   ]
  },
  {
   "cell_type": "code",
   "execution_count": 131,
   "metadata": {},
   "outputs": [],
   "source": [
    "import tensorboard"
   ]
  },
  {
   "cell_type": "code",
   "execution_count": 132,
   "metadata": {},
   "outputs": [
    {
     "data": {
      "text/plain": [
       "Reusing TensorBoard on port 6006 (pid 10996), started 4:43:59 ago. (Use '!kill 10996' to kill it.)"
      ]
     },
     "metadata": {},
     "output_type": "display_data"
    },
    {
     "data": {
      "text/html": [
       "\n",
       "      <iframe id=\"tensorboard-frame-1c80317fa3b1799d\" width=\"100%\" height=\"800\" frameborder=\"0\">\n",
       "      </iframe>\n",
       "      <script>\n",
       "        (function() {\n",
       "          const frame = document.getElementById(\"tensorboard-frame-1c80317fa3b1799d\");\n",
       "          const url = new URL(\"http://localhost\");\n",
       "          const port = 6006;\n",
       "          if (port) {\n",
       "            url.port = port;\n",
       "          }\n",
       "          frame.src = url;\n",
       "        })();\n",
       "      </script>\n",
       "    "
      ],
      "text/plain": [
       "<IPython.core.display.HTML object>"
      ]
     },
     "metadata": {},
     "output_type": "display_data"
    }
   ],
   "source": [
    "%reload_ext tensorboard\n",
    "\n",
    "%tensorboard --logdir ./lightning_logs"
   ]
  },
  {
   "cell_type": "code",
   "execution_count": 133,
   "metadata": {},
   "outputs": [
    {
     "name": "stderr",
     "output_type": "stream",
     "text": [
      "GPU available: True (cuda), used: True\n",
      "TPU available: False, using: 0 TPU cores\n",
      "IPU available: False, using: 0 IPUs\n",
      "HPU available: False, using: 0 HPUs\n"
     ]
    }
   ],
   "source": [
    "checkpoint_callback = ModelCheckpoint(\n",
    "    dirpath='../checkpoints',\n",
    "    filename='best-checkpoint',\n",
    "    save_top_k=1,\n",
    "    verbose=True,\n",
    "    monitor='val_loss',\n",
    "    mode='min'\n",
    ")\n",
    "\n",
    "logger = TensorBoardLogger(\"lightning_logs\", name='pc')\n",
    "\n",
    "early_stopping_callback = EarlyStopping(monitor=\"val_loss\", patience=2)\n",
    "\n",
    "trainer = pl.Trainer(\n",
    "    logger=logger,\n",
    "    # checkpoint_callback=checkpoint_callback,\n",
    "    callbacks=[checkpoint_callback],\n",
    "    max_epochs=num_epoch,\n",
    "    accelerator=\"gpu\",\n",
    "    devices=1,\n",
    "    # progress_bar_refresh_rate=30,\n",
    ")"
   ]
  },
  {
   "cell_type": "code",
   "execution_count": 147,
   "metadata": {},
   "outputs": [
    {
     "name": "stdout",
     "output_type": "stream",
     "text": [
      "torch.Size([64, 60, 10])\n"
     ]
    }
   ],
   "source": [
    "for d in data_module.train_dataloader():\n",
    "    print(d['sequence'].shape)\n",
    "    break"
   ]
  },
  {
   "cell_type": "code",
   "execution_count": 151,
   "metadata": {},
   "outputs": [],
   "source": [
    "# trainer.fit(model, data_module)\n",
    "\n",
    "# ERR: Given groups=1, weight of size [64, 10, 2], expected input[64, 60, 10] to have 10 channels, but got 60 channels instead"
   ]
  },
  {
   "cell_type": "code",
   "execution_count": 152,
   "metadata": {},
   "outputs": [
    {
     "ename": "SyntaxError",
     "evalue": "invalid syntax (4157677135.py, line 3)",
     "output_type": "error",
     "traceback": [
      "\u001b[1;36m  Cell \u001b[1;32mIn[152], line 3\u001b[1;36m\u001b[0m\n\u001b[1;33m    for d in data_module.train_dataloader()\u001b[0m\n\u001b[1;37m                                           ^\u001b[0m\n\u001b[1;31mSyntaxError\u001b[0m\u001b[1;31m:\u001b[0m invalid syntax\n"
     ]
    }
   ],
   "source": [
    "m = Model(n_features=df.shape[1], n_hidden=64, kernel_size=2)\n",
    "# m()\n",
    "# for d in data_module.train_dataloader()"
   ]
  },
  {
   "cell_type": "markdown",
   "metadata": {},
   "source": [
    "### Test dataset"
   ]
  },
  {
   "cell_type": "code",
   "execution_count": 88,
   "metadata": {},
   "outputs": [],
   "source": [
    "trained_model = PCPredictor.load_from_checkpoint(\n",
    "    '../checkpoints/best-checkpoint.ckpt', \n",
    "    n_features=train_df.shape[1]\n",
    ")"
   ]
  },
  {
   "cell_type": "code",
   "execution_count": 100,
   "metadata": {},
   "outputs": [],
   "source": [
    "test_dataset = PCDataset(test_sequences)\n",
    "\n",
    "predictions = []\n",
    "labels = []\n",
    "\n",
    "for item in test_dataset:\n",
    "    \n",
    "    # print(item['sequence'])\n",
    "    # break\n",
    "    sequence = item['sequence']\n",
    "    label = item['label']\n",
    "    \n",
    "    _, output = trained_model(sequence.unsqueeze(dim=0))\n",
    "    predictions.append(output.item())\n",
    "    labels.append(label.item())"
   ]
  },
  {
   "cell_type": "code",
   "execution_count": 107,
   "metadata": {},
   "outputs": [
    {
     "name": "stdout",
     "output_type": "stream",
     "text": [
      "49939 49939\n"
     ]
    }
   ],
   "source": [
    "print(len(predictions), len(test_df) - 60)"
   ]
  },
  {
   "cell_type": "markdown",
   "metadata": {},
   "source": [
    "### Descalling"
   ]
  },
  {
   "cell_type": "code",
   "execution_count": 153,
   "metadata": {},
   "outputs": [],
   "source": [
    "# print(labels)\n",
    "# print(test_df.iloc[60:]['global_active_power'].values)\n",
    "result_df = pd.DataFrame(\n",
    "    {\n",
    "        'predictions': predictions,\n",
    "        'labels': labels\n",
    "    }\n",
    ")"
   ]
  },
  {
   "cell_type": "code",
   "execution_count": 154,
   "metadata": {},
   "outputs": [],
   "source": [
    "\n",
    "import matplotlib.pyplot as plt\n",
    "%matplotlib inline"
   ]
  },
  {
   "cell_type": "code",
   "execution_count": 155,
   "metadata": {},
   "outputs": [
    {
     "data": {
      "text/plain": [
       "array([    0,     1,     2, ..., 49936, 49937, 49938], dtype=int64)"
      ]
     },
     "execution_count": 155,
     "metadata": {},
     "output_type": "execute_result"
    }
   ],
   "source": [
    "result_df.index.values"
   ]
  },
  {
   "cell_type": "code",
   "execution_count": 160,
   "metadata": {},
   "outputs": [
    {
     "data": {
      "image/jpeg": "[encoded data removed]",
      "text/plain": [
       "<Figure size 1200x800 with 1 Axes>"
      ]
     },
     "metadata": {},
     "output_type": "display_data"
    }
   ],
   "source": [
    "plt.plot(result_df.index.values[:200], result_df.predictions.values[:200])\n",
    "plt.plot(result_df.index.values[:200], result_df.labels.values[:200])\n",
    "plt.show()"
   ]
  },
  {
   "cell_type": "code",
   "execution_count": 163,
   "metadata": {},
   "outputs": [
    {
     "data": {
      "text/plain": [
       "<Axes: >"
      ]
     },
     "execution_count": 163,
     "metadata": {},
     "output_type": "execute_result"
    },
    {
     "data": {
      "image/jpeg": "[encoded data removed]",
      "text/plain": [
       "<Figure size 1200x800 with 1 Axes>"
      ]
     },
     "metadata": {},
     "output_type": "display_data"
    }
   ],
   "source": [
    "result_df[125:200].plot()"
   ]
  }
 ],
 "metadata": {
  "kernelspec": {
   "display_name": "xai",
   "language": "python",
   "name": "python3"
  },
  "language_info": {
   "codemirror_mode": {
    "name": "ipython",
    "version": 3
   },
   "file_extension": ".py",
   "mimetype": "text/x-python",
   "name": "python",
   "nbconvert_exporter": "python",
   "pygments_lexer": "ipython3",
   "version": "3.8.18"
  }
 },
 "nbformat": 4,
 "nbformat_minor": 2
}
