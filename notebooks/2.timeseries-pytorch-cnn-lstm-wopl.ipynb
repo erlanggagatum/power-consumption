{
 "cells": [
  {
   "cell_type": "code",
   "execution_count": 1,
   "metadata": {},
   "outputs": [],
   "source": [
    "import seaborn as sns\n",
    "import matplotlib\n",
    "import matplotlib.pyplot as plot\n",
    "import math\n",
    "from matplotlib import rc\n",
    "from pylab import rcParams\n",
    "\n",
    "import pandas as pd\n",
    "import numpy as numpy\n",
    "from tqdm.notebook import tqdm\n",
    "from sklearn.preprocessing import MinMaxScaler\n",
    "\n",
    "import torch\n",
    "import torch.autograd as autograd\n",
    "import torch.nn as nn\n",
    "import torch.nn.functional as F\n",
    "import torch.optim as optim\n",
    "from torch.utils.data import Dataset, DataLoader\n",
    "from collections import defaultdict"
   ]
  },
  {
   "cell_type": "code",
   "execution_count": 2,
   "metadata": {},
   "outputs": [],
   "source": [
    "%matplotlib inline\n",
    "%config InlineBackend.figure_format='jpeg'\n",
    "# !jupyter nbextension enable --py widgetsnbextension\n",
    "\n",
    "# sns.set(style='whitegrid', palette='muted', font_scale=1.2)\n",
    "# HAPPY_COLORS_PALETTE = ['#01BEFE', '#FFDD00', '#FF7D00', '#FF006D', '#ADFF02', '#8F00FF']\n",
    "# sns.set_palette(sns.color_palette(HAPPY_COLORS_PALETTE))\n",
    "# rcParams['figure.figsize'] = 12, 8\n",
    "# tqdm.pandas()\n",
    "# pl.seed_everything(42)"
   ]
  },
  {
   "cell_type": "markdown",
   "metadata": {},
   "source": [
    "### Import dataset"
   ]
  },
  {
   "cell_type": "code",
   "execution_count": 3,
   "metadata": {},
   "outputs": [
    {
     "data": {
      "text/html": [
       "<div>\n",
       "<style scoped>\n",
       "    .dataframe tbody tr th:only-of-type {\n",
       "        vertical-align: middle;\n",
       "    }\n",
       "\n",
       "    .dataframe tbody tr th {\n",
       "        vertical-align: top;\n",
       "    }\n",
       "\n",
       "    .dataframe thead th {\n",
       "        text-align: right;\n",
       "    }\n",
       "</style>\n",
       "<table border=\"1\" class=\"dataframe\">\n",
       "  <thead>\n",
       "    <tr style=\"text-align: right;\">\n",
       "      <th></th>\n",
       "      <th>global_active_power</th>\n",
       "      <th>global_reactive_power</th>\n",
       "      <th>voltage</th>\n",
       "      <th>global_intensity</th>\n",
       "      <th>kitchen</th>\n",
       "      <th>laundry_room</th>\n",
       "      <th>thermal_utilities</th>\n",
       "      <th>day</th>\n",
       "      <th>month</th>\n",
       "      <th>year</th>\n",
       "    </tr>\n",
       "    <tr>\n",
       "      <th>datetime</th>\n",
       "      <th></th>\n",
       "      <th></th>\n",
       "      <th></th>\n",
       "      <th></th>\n",
       "      <th></th>\n",
       "      <th></th>\n",
       "      <th></th>\n",
       "      <th></th>\n",
       "      <th></th>\n",
       "      <th></th>\n",
       "    </tr>\n",
       "  </thead>\n",
       "  <tbody>\n",
       "    <tr>\n",
       "      <th>2006-12-16 17:24:00</th>\n",
       "      <td>4.216</td>\n",
       "      <td>0.418</td>\n",
       "      <td>234.84</td>\n",
       "      <td>18.4</td>\n",
       "      <td>0.0</td>\n",
       "      <td>1.0</td>\n",
       "      <td>17.0</td>\n",
       "      <td>16</td>\n",
       "      <td>12</td>\n",
       "      <td>2006</td>\n",
       "    </tr>\n",
       "    <tr>\n",
       "      <th>2006-12-16 17:25:00</th>\n",
       "      <td>5.360</td>\n",
       "      <td>0.436</td>\n",
       "      <td>233.63</td>\n",
       "      <td>23.0</td>\n",
       "      <td>0.0</td>\n",
       "      <td>1.0</td>\n",
       "      <td>16.0</td>\n",
       "      <td>16</td>\n",
       "      <td>12</td>\n",
       "      <td>2006</td>\n",
       "    </tr>\n",
       "    <tr>\n",
       "      <th>2006-12-16 17:26:00</th>\n",
       "      <td>5.374</td>\n",
       "      <td>0.498</td>\n",
       "      <td>233.29</td>\n",
       "      <td>23.0</td>\n",
       "      <td>0.0</td>\n",
       "      <td>2.0</td>\n",
       "      <td>17.0</td>\n",
       "      <td>16</td>\n",
       "      <td>12</td>\n",
       "      <td>2006</td>\n",
       "    </tr>\n",
       "    <tr>\n",
       "      <th>2006-12-16 17:27:00</th>\n",
       "      <td>5.388</td>\n",
       "      <td>0.502</td>\n",
       "      <td>233.74</td>\n",
       "      <td>23.0</td>\n",
       "      <td>0.0</td>\n",
       "      <td>1.0</td>\n",
       "      <td>17.0</td>\n",
       "      <td>16</td>\n",
       "      <td>12</td>\n",
       "      <td>2006</td>\n",
       "    </tr>\n",
       "    <tr>\n",
       "      <th>2006-12-16 17:28:00</th>\n",
       "      <td>3.666</td>\n",
       "      <td>0.528</td>\n",
       "      <td>235.68</td>\n",
       "      <td>15.8</td>\n",
       "      <td>0.0</td>\n",
       "      <td>1.0</td>\n",
       "      <td>17.0</td>\n",
       "      <td>16</td>\n",
       "      <td>12</td>\n",
       "      <td>2006</td>\n",
       "    </tr>\n",
       "  </tbody>\n",
       "</table>\n",
       "</div>"
      ],
      "text/plain": [
       "                     global_active_power  global_reactive_power  voltage  \\\n",
       "datetime                                                                   \n",
       "2006-12-16 17:24:00                4.216                  0.418   234.84   \n",
       "2006-12-16 17:25:00                5.360                  0.436   233.63   \n",
       "2006-12-16 17:26:00                5.374                  0.498   233.29   \n",
       "2006-12-16 17:27:00                5.388                  0.502   233.74   \n",
       "2006-12-16 17:28:00                3.666                  0.528   235.68   \n",
       "\n",
       "                     global_intensity  kitchen  laundry_room  \\\n",
       "datetime                                                       \n",
       "2006-12-16 17:24:00              18.4      0.0           1.0   \n",
       "2006-12-16 17:25:00              23.0      0.0           1.0   \n",
       "2006-12-16 17:26:00              23.0      0.0           2.0   \n",
       "2006-12-16 17:27:00              23.0      0.0           1.0   \n",
       "2006-12-16 17:28:00              15.8      0.0           1.0   \n",
       "\n",
       "                     thermal_utilities  day  month  year  \n",
       "datetime                                                  \n",
       "2006-12-16 17:24:00               17.0   16     12  2006  \n",
       "2006-12-16 17:25:00               16.0   16     12  2006  \n",
       "2006-12-16 17:26:00               17.0   16     12  2006  \n",
       "2006-12-16 17:27:00               17.0   16     12  2006  \n",
       "2006-12-16 17:28:00               17.0   16     12  2006  "
      ]
     },
     "execution_count": 3,
     "metadata": {},
     "output_type": "execute_result"
    }
   ],
   "source": [
    "df = pd.read_csv('../datasets/household_power_consumption_v3_drop.txt', parse_dates={'datetime' : ['date','time']}, index_col='datetime', sep=';', usecols=[1,2,3,4,5,6,7,8,9,11,12,13])\n",
    "df.head(5)"
   ]
  },
  {
   "cell_type": "code",
   "execution_count": 4,
   "metadata": {},
   "outputs": [
    {
     "data": {
      "text/html": [
       "<div>\n",
       "<style scoped>\n",
       "    .dataframe tbody tr th:only-of-type {\n",
       "        vertical-align: middle;\n",
       "    }\n",
       "\n",
       "    .dataframe tbody tr th {\n",
       "        vertical-align: top;\n",
       "    }\n",
       "\n",
       "    .dataframe thead th {\n",
       "        text-align: right;\n",
       "    }\n",
       "</style>\n",
       "<table border=\"1\" class=\"dataframe\">\n",
       "  <thead>\n",
       "    <tr style=\"text-align: right;\">\n",
       "      <th></th>\n",
       "      <th>global_reactive_power</th>\n",
       "      <th>voltage</th>\n",
       "      <th>global_intensity</th>\n",
       "      <th>kitchen</th>\n",
       "      <th>laundry_room</th>\n",
       "      <th>thermal_utilities</th>\n",
       "      <th>day</th>\n",
       "      <th>month</th>\n",
       "      <th>year</th>\n",
       "      <th>global_active_power</th>\n",
       "    </tr>\n",
       "    <tr>\n",
       "      <th>datetime</th>\n",
       "      <th></th>\n",
       "      <th></th>\n",
       "      <th></th>\n",
       "      <th></th>\n",
       "      <th></th>\n",
       "      <th></th>\n",
       "      <th></th>\n",
       "      <th></th>\n",
       "      <th></th>\n",
       "      <th></th>\n",
       "    </tr>\n",
       "  </thead>\n",
       "  <tbody>\n",
       "    <tr>\n",
       "      <th>2006-12-16 17:24:00</th>\n",
       "      <td>0.418</td>\n",
       "      <td>234.84</td>\n",
       "      <td>18.4</td>\n",
       "      <td>0.0</td>\n",
       "      <td>1.0</td>\n",
       "      <td>17.0</td>\n",
       "      <td>16</td>\n",
       "      <td>12</td>\n",
       "      <td>2006</td>\n",
       "      <td>4.216</td>\n",
       "    </tr>\n",
       "    <tr>\n",
       "      <th>2006-12-16 17:25:00</th>\n",
       "      <td>0.436</td>\n",
       "      <td>233.63</td>\n",
       "      <td>23.0</td>\n",
       "      <td>0.0</td>\n",
       "      <td>1.0</td>\n",
       "      <td>16.0</td>\n",
       "      <td>16</td>\n",
       "      <td>12</td>\n",
       "      <td>2006</td>\n",
       "      <td>5.360</td>\n",
       "    </tr>\n",
       "    <tr>\n",
       "      <th>2006-12-16 17:26:00</th>\n",
       "      <td>0.498</td>\n",
       "      <td>233.29</td>\n",
       "      <td>23.0</td>\n",
       "      <td>0.0</td>\n",
       "      <td>2.0</td>\n",
       "      <td>17.0</td>\n",
       "      <td>16</td>\n",
       "      <td>12</td>\n",
       "      <td>2006</td>\n",
       "      <td>5.374</td>\n",
       "    </tr>\n",
       "    <tr>\n",
       "      <th>2006-12-16 17:27:00</th>\n",
       "      <td>0.502</td>\n",
       "      <td>233.74</td>\n",
       "      <td>23.0</td>\n",
       "      <td>0.0</td>\n",
       "      <td>1.0</td>\n",
       "      <td>17.0</td>\n",
       "      <td>16</td>\n",
       "      <td>12</td>\n",
       "      <td>2006</td>\n",
       "      <td>5.388</td>\n",
       "    </tr>\n",
       "    <tr>\n",
       "      <th>2006-12-16 17:28:00</th>\n",
       "      <td>0.528</td>\n",
       "      <td>235.68</td>\n",
       "      <td>15.8</td>\n",
       "      <td>0.0</td>\n",
       "      <td>1.0</td>\n",
       "      <td>17.0</td>\n",
       "      <td>16</td>\n",
       "      <td>12</td>\n",
       "      <td>2006</td>\n",
       "      <td>3.666</td>\n",
       "    </tr>\n",
       "  </tbody>\n",
       "</table>\n",
       "</div>"
      ],
      "text/plain": [
       "                     global_reactive_power  voltage  global_intensity  \\\n",
       "datetime                                                                \n",
       "2006-12-16 17:24:00                  0.418   234.84              18.4   \n",
       "2006-12-16 17:25:00                  0.436   233.63              23.0   \n",
       "2006-12-16 17:26:00                  0.498   233.29              23.0   \n",
       "2006-12-16 17:27:00                  0.502   233.74              23.0   \n",
       "2006-12-16 17:28:00                  0.528   235.68              15.8   \n",
       "\n",
       "                     kitchen  laundry_room  thermal_utilities  day  month  \\\n",
       "datetime                                                                    \n",
       "2006-12-16 17:24:00      0.0           1.0               17.0   16     12   \n",
       "2006-12-16 17:25:00      0.0           1.0               16.0   16     12   \n",
       "2006-12-16 17:26:00      0.0           2.0               17.0   16     12   \n",
       "2006-12-16 17:27:00      0.0           1.0               17.0   16     12   \n",
       "2006-12-16 17:28:00      0.0           1.0               17.0   16     12   \n",
       "\n",
       "                     year  global_active_power  \n",
       "datetime                                        \n",
       "2006-12-16 17:24:00  2006                4.216  \n",
       "2006-12-16 17:25:00  2006                5.360  \n",
       "2006-12-16 17:26:00  2006                5.374  \n",
       "2006-12-16 17:27:00  2006                5.388  \n",
       "2006-12-16 17:28:00  2006                3.666  "
      ]
     },
     "execution_count": 4,
     "metadata": {},
     "output_type": "execute_result"
    }
   ],
   "source": [
    "cols = ['global_reactive_power', 'voltage', 'global_intensity', 'kitchen', 'laundry_room', 'thermal_utilities', 'day', 'month', 'year', 'global_active_power']\n",
    "features_df = df[cols]\n",
    "features_df.head()"
   ]
  },
  {
   "cell_type": "markdown",
   "metadata": {},
   "source": [
    "### Preprocessing "
   ]
  },
  {
   "cell_type": "markdown",
   "metadata": {},
   "source": [
    "Split - Train ```.6```, Validation ```.2```, Test ```.2```"
   ]
  },
  {
   "cell_type": "code",
   "execution_count": 5,
   "metadata": {},
   "outputs": [
    {
     "data": {
      "text/plain": [
       "(1229568, 1639424)"
      ]
     },
     "execution_count": 5,
     "metadata": {},
     "output_type": "execute_result"
    }
   ],
   "source": [
    "train_size = int(len(features_df) * .6) # 60% training\n",
    "val_size = int((len(features_df) - train_size) * .5) + train_size # 20% validation and test\n",
    "train_size, val_size"
   ]
  },
  {
   "cell_type": "code",
   "execution_count": 6,
   "metadata": {},
   "outputs": [
    {
     "name": "stdout",
     "output_type": "stream",
     "text": [
      "(1229568, 10) (409856, 10) (409856, 10)\n"
     ]
    }
   ],
   "source": [
    "train_df, val_df, test_df = features_df[:train_size], features_df[train_size:val_size], features_df[val_size:]\n",
    "print(train_df.shape, val_df.shape, test_df.shape)"
   ]
  },
  {
   "cell_type": "markdown",
   "metadata": {},
   "source": [
    "__Normalization__"
   ]
  },
  {
   "cell_type": "code",
   "execution_count": 7,
   "metadata": {},
   "outputs": [],
   "source": [
    "# scalling data only using train df\n",
    "scaler = MinMaxScaler(feature_range=(-1,1))\n",
    "scaler = scaler.fit(train_df)"
   ]
  },
  {
   "cell_type": "code",
   "execution_count": 8,
   "metadata": {},
   "outputs": [
    {
     "data": {
      "text/html": [
       "<div>\n",
       "<style scoped>\n",
       "    .dataframe tbody tr th:only-of-type {\n",
       "        vertical-align: middle;\n",
       "    }\n",
       "\n",
       "    .dataframe tbody tr th {\n",
       "        vertical-align: top;\n",
       "    }\n",
       "\n",
       "    .dataframe thead th {\n",
       "        text-align: right;\n",
       "    }\n",
       "</style>\n",
       "<table border=\"1\" class=\"dataframe\">\n",
       "  <thead>\n",
       "    <tr style=\"text-align: right;\">\n",
       "      <th></th>\n",
       "      <th>global_reactive_power</th>\n",
       "      <th>voltage</th>\n",
       "      <th>global_intensity</th>\n",
       "      <th>kitchen</th>\n",
       "      <th>laundry_room</th>\n",
       "      <th>thermal_utilities</th>\n",
       "      <th>day</th>\n",
       "      <th>month</th>\n",
       "      <th>year</th>\n",
       "      <th>global_active_power</th>\n",
       "    </tr>\n",
       "    <tr>\n",
       "      <th>datetime</th>\n",
       "      <th></th>\n",
       "      <th></th>\n",
       "      <th></th>\n",
       "      <th></th>\n",
       "      <th></th>\n",
       "      <th></th>\n",
       "      <th></th>\n",
       "      <th></th>\n",
       "      <th></th>\n",
       "      <th></th>\n",
       "    </tr>\n",
       "  </thead>\n",
       "  <tbody>\n",
       "    <tr>\n",
       "      <th>2006-12-16 17:24:00</th>\n",
       "      <td>-0.398561</td>\n",
       "      <td>-0.254516</td>\n",
       "      <td>-0.244813</td>\n",
       "      <td>-1.0</td>\n",
       "      <td>-0.974359</td>\n",
       "      <td>0.096774</td>\n",
       "      <td>0.0</td>\n",
       "      <td>1.0</td>\n",
       "      <td>-1.0</td>\n",
       "      <td>-0.250407</td>\n",
       "    </tr>\n",
       "    <tr>\n",
       "      <th>2006-12-16 17:25:00</th>\n",
       "      <td>-0.372662</td>\n",
       "      <td>-0.333990</td>\n",
       "      <td>-0.053942</td>\n",
       "      <td>-1.0</td>\n",
       "      <td>-0.974359</td>\n",
       "      <td>0.032258</td>\n",
       "      <td>0.0</td>\n",
       "      <td>1.0</td>\n",
       "      <td>-1.0</td>\n",
       "      <td>-0.043274</td>\n",
       "    </tr>\n",
       "    <tr>\n",
       "      <th>2006-12-16 17:26:00</th>\n",
       "      <td>-0.283453</td>\n",
       "      <td>-0.356322</td>\n",
       "      <td>-0.053942</td>\n",
       "      <td>-1.0</td>\n",
       "      <td>-0.948718</td>\n",
       "      <td>0.096774</td>\n",
       "      <td>0.0</td>\n",
       "      <td>1.0</td>\n",
       "      <td>-1.0</td>\n",
       "      <td>-0.040739</td>\n",
       "    </tr>\n",
       "  </tbody>\n",
       "</table>\n",
       "</div>"
      ],
      "text/plain": [
       "                     global_reactive_power   voltage  global_intensity  \\\n",
       "datetime                                                                 \n",
       "2006-12-16 17:24:00              -0.398561 -0.254516         -0.244813   \n",
       "2006-12-16 17:25:00              -0.372662 -0.333990         -0.053942   \n",
       "2006-12-16 17:26:00              -0.283453 -0.356322         -0.053942   \n",
       "\n",
       "                     kitchen  laundry_room  thermal_utilities  day  month  \\\n",
       "datetime                                                                    \n",
       "2006-12-16 17:24:00     -1.0     -0.974359           0.096774  0.0    1.0   \n",
       "2006-12-16 17:25:00     -1.0     -0.974359           0.032258  0.0    1.0   \n",
       "2006-12-16 17:26:00     -1.0     -0.948718           0.096774  0.0    1.0   \n",
       "\n",
       "                     year  global_active_power  \n",
       "datetime                                        \n",
       "2006-12-16 17:24:00  -1.0            -0.250407  \n",
       "2006-12-16 17:25:00  -1.0            -0.043274  \n",
       "2006-12-16 17:26:00  -1.0            -0.040739  "
      ]
     },
     "execution_count": 8,
     "metadata": {},
     "output_type": "execute_result"
    }
   ],
   "source": [
    "train_df = pd.DataFrame(\n",
    "    scaler.transform(train_df), \n",
    "    index=train_df.index, \n",
    "    columns=train_df.columns)\n",
    "train_df.head(3)"
   ]
  },
  {
   "cell_type": "code",
   "execution_count": 9,
   "metadata": {},
   "outputs": [
    {
     "data": {
      "text/html": [
       "<div>\n",
       "<style scoped>\n",
       "    .dataframe tbody tr th:only-of-type {\n",
       "        vertical-align: middle;\n",
       "    }\n",
       "\n",
       "    .dataframe tbody tr th {\n",
       "        vertical-align: top;\n",
       "    }\n",
       "\n",
       "    .dataframe thead th {\n",
       "        text-align: right;\n",
       "    }\n",
       "</style>\n",
       "<table border=\"1\" class=\"dataframe\">\n",
       "  <thead>\n",
       "    <tr style=\"text-align: right;\">\n",
       "      <th></th>\n",
       "      <th>global_reactive_power</th>\n",
       "      <th>voltage</th>\n",
       "      <th>global_intensity</th>\n",
       "      <th>kitchen</th>\n",
       "      <th>laundry_room</th>\n",
       "      <th>thermal_utilities</th>\n",
       "      <th>day</th>\n",
       "      <th>month</th>\n",
       "      <th>year</th>\n",
       "      <th>global_active_power</th>\n",
       "    </tr>\n",
       "    <tr>\n",
       "      <th>datetime</th>\n",
       "      <th></th>\n",
       "      <th></th>\n",
       "      <th></th>\n",
       "      <th></th>\n",
       "      <th></th>\n",
       "      <th></th>\n",
       "      <th></th>\n",
       "      <th></th>\n",
       "      <th></th>\n",
       "      <th></th>\n",
       "    </tr>\n",
       "  </thead>\n",
       "  <tbody>\n",
       "    <tr>\n",
       "      <th>2010-02-05 04:29:00</th>\n",
       "      <td>-0.516547</td>\n",
       "      <td>0.559278</td>\n",
       "      <td>-0.900415</td>\n",
       "      <td>-1.0</td>\n",
       "      <td>-0.948718</td>\n",
       "      <td>-0.935484</td>\n",
       "      <td>-0.733333</td>\n",
       "      <td>-0.818182</td>\n",
       "      <td>1.666667</td>\n",
       "      <td>-0.915263</td>\n",
       "    </tr>\n",
       "    <tr>\n",
       "      <th>2010-02-05 04:30:00</th>\n",
       "      <td>-0.522302</td>\n",
       "      <td>0.552053</td>\n",
       "      <td>-0.900415</td>\n",
       "      <td>-1.0</td>\n",
       "      <td>-0.974359</td>\n",
       "      <td>-0.935484</td>\n",
       "      <td>-0.733333</td>\n",
       "      <td>-0.818182</td>\n",
       "      <td>1.666667</td>\n",
       "      <td>-0.918160</td>\n",
       "    </tr>\n",
       "    <tr>\n",
       "      <th>2010-02-05 04:31:00</th>\n",
       "      <td>-0.516547</td>\n",
       "      <td>0.598686</td>\n",
       "      <td>-0.900415</td>\n",
       "      <td>-1.0</td>\n",
       "      <td>-0.974359</td>\n",
       "      <td>-1.000000</td>\n",
       "      <td>-0.733333</td>\n",
       "      <td>-0.818182</td>\n",
       "      <td>1.666667</td>\n",
       "      <td>-0.918160</td>\n",
       "    </tr>\n",
       "  </tbody>\n",
       "</table>\n",
       "</div>"
      ],
      "text/plain": [
       "                     global_reactive_power   voltage  global_intensity  \\\n",
       "datetime                                                                 \n",
       "2010-02-05 04:29:00              -0.516547  0.559278         -0.900415   \n",
       "2010-02-05 04:30:00              -0.522302  0.552053         -0.900415   \n",
       "2010-02-05 04:31:00              -0.516547  0.598686         -0.900415   \n",
       "\n",
       "                     kitchen  laundry_room  thermal_utilities       day  \\\n",
       "datetime                                                                  \n",
       "2010-02-05 04:29:00     -1.0     -0.948718          -0.935484 -0.733333   \n",
       "2010-02-05 04:30:00     -1.0     -0.974359          -0.935484 -0.733333   \n",
       "2010-02-05 04:31:00     -1.0     -0.974359          -1.000000 -0.733333   \n",
       "\n",
       "                        month      year  global_active_power  \n",
       "datetime                                                      \n",
       "2010-02-05 04:29:00 -0.818182  1.666667            -0.915263  \n",
       "2010-02-05 04:30:00 -0.818182  1.666667            -0.918160  \n",
       "2010-02-05 04:31:00 -0.818182  1.666667            -0.918160  "
      ]
     },
     "execution_count": 9,
     "metadata": {},
     "output_type": "execute_result"
    }
   ],
   "source": [
    "test_df = pd.DataFrame(\n",
    "    scaler.transform(test_df), \n",
    "    index=test_df.index, \n",
    "    columns=test_df.columns)\n",
    "test_df.head(3)"
   ]
  },
  {
   "cell_type": "code",
   "execution_count": 10,
   "metadata": {},
   "outputs": [
    {
     "data": {
      "text/html": [
       "<div>\n",
       "<style scoped>\n",
       "    .dataframe tbody tr th:only-of-type {\n",
       "        vertical-align: middle;\n",
       "    }\n",
       "\n",
       "    .dataframe tbody tr th {\n",
       "        vertical-align: top;\n",
       "    }\n",
       "\n",
       "    .dataframe thead th {\n",
       "        text-align: right;\n",
       "    }\n",
       "</style>\n",
       "<table border=\"1\" class=\"dataframe\">\n",
       "  <thead>\n",
       "    <tr style=\"text-align: right;\">\n",
       "      <th></th>\n",
       "      <th>global_reactive_power</th>\n",
       "      <th>voltage</th>\n",
       "      <th>global_intensity</th>\n",
       "      <th>kitchen</th>\n",
       "      <th>laundry_room</th>\n",
       "      <th>thermal_utilities</th>\n",
       "      <th>day</th>\n",
       "      <th>month</th>\n",
       "      <th>year</th>\n",
       "      <th>global_active_power</th>\n",
       "    </tr>\n",
       "    <tr>\n",
       "      <th>datetime</th>\n",
       "      <th></th>\n",
       "      <th></th>\n",
       "      <th></th>\n",
       "      <th></th>\n",
       "      <th></th>\n",
       "      <th></th>\n",
       "      <th></th>\n",
       "      <th></th>\n",
       "      <th></th>\n",
       "      <th></th>\n",
       "    </tr>\n",
       "  </thead>\n",
       "  <tbody>\n",
       "    <tr>\n",
       "      <th>2009-04-21 11:11:00</th>\n",
       "      <td>-0.458993</td>\n",
       "      <td>-0.120525</td>\n",
       "      <td>-0.659751</td>\n",
       "      <td>-1.0</td>\n",
       "      <td>-1.0</td>\n",
       "      <td>0.16129</td>\n",
       "      <td>0.333333</td>\n",
       "      <td>-0.454545</td>\n",
       "      <td>1.0</td>\n",
       "      <td>-0.677711</td>\n",
       "    </tr>\n",
       "    <tr>\n",
       "      <th>2009-04-21 11:12:00</th>\n",
       "      <td>-0.159712</td>\n",
       "      <td>-0.129064</td>\n",
       "      <td>-0.618257</td>\n",
       "      <td>-1.0</td>\n",
       "      <td>-1.0</td>\n",
       "      <td>0.16129</td>\n",
       "      <td>0.333333</td>\n",
       "      <td>-0.454545</td>\n",
       "      <td>1.0</td>\n",
       "      <td>-0.628825</td>\n",
       "    </tr>\n",
       "    <tr>\n",
       "      <th>2009-04-21 11:13:00</th>\n",
       "      <td>-0.165468</td>\n",
       "      <td>-0.201314</td>\n",
       "      <td>-0.618257</td>\n",
       "      <td>-1.0</td>\n",
       "      <td>-1.0</td>\n",
       "      <td>0.16129</td>\n",
       "      <td>0.333333</td>\n",
       "      <td>-0.454545</td>\n",
       "      <td>1.0</td>\n",
       "      <td>-0.637154</td>\n",
       "    </tr>\n",
       "  </tbody>\n",
       "</table>\n",
       "</div>"
      ],
      "text/plain": [
       "                     global_reactive_power   voltage  global_intensity  \\\n",
       "datetime                                                                 \n",
       "2009-04-21 11:11:00              -0.458993 -0.120525         -0.659751   \n",
       "2009-04-21 11:12:00              -0.159712 -0.129064         -0.618257   \n",
       "2009-04-21 11:13:00              -0.165468 -0.201314         -0.618257   \n",
       "\n",
       "                     kitchen  laundry_room  thermal_utilities       day  \\\n",
       "datetime                                                                  \n",
       "2009-04-21 11:11:00     -1.0          -1.0            0.16129  0.333333   \n",
       "2009-04-21 11:12:00     -1.0          -1.0            0.16129  0.333333   \n",
       "2009-04-21 11:13:00     -1.0          -1.0            0.16129  0.333333   \n",
       "\n",
       "                        month  year  global_active_power  \n",
       "datetime                                                  \n",
       "2009-04-21 11:11:00 -0.454545   1.0            -0.677711  \n",
       "2009-04-21 11:12:00 -0.454545   1.0            -0.628825  \n",
       "2009-04-21 11:13:00 -0.454545   1.0            -0.637154  "
      ]
     },
     "execution_count": 10,
     "metadata": {},
     "output_type": "execute_result"
    }
   ],
   "source": [
    "val_df = pd.DataFrame(\n",
    "    scaler.transform(val_df), \n",
    "    index=val_df.index, \n",
    "    columns=val_df.columns)\n",
    "val_df.head(3)"
   ]
  },
  {
   "cell_type": "markdown",
   "metadata": {},
   "source": [
    "__Create sequence__"
   ]
  },
  {
   "cell_type": "code",
   "execution_count": 11,
   "metadata": {},
   "outputs": [],
   "source": [
    "def create_sequences(input_data: pd.DataFrame, target_column, sequence_length, offset = 1):\n",
    "    sequences = []\n",
    "    data_size = len(input_data)\n",
    "    \n",
    "    for i in range(data_size - sequence_length):\n",
    "        sequence = input_data[i:i+sequence_length]\n",
    "        \n",
    "        label_poisition = i+sequence_length\n",
    "        label = input_data.iloc[label_poisition:label_poisition+offset][target_column]\n",
    "        \n",
    "        sequences.append((sequence, label))\n",
    "        \n",
    "    return sequences"
   ]
  },
  {
   "cell_type": "code",
   "execution_count": 12,
   "metadata": {},
   "outputs": [],
   "source": [
    "num_seq = 60 # 60 minutes\n",
    "offset = 1\n",
    "train_sequences = create_sequences(train_df, 'global_active_power', num_seq, offset)\n",
    "val_sequences = create_sequences(val_df, 'global_active_power', num_seq, offset)\n",
    "test_sequences = create_sequences(test_df, 'global_active_power', num_seq, offset)"
   ]
  },
  {
   "cell_type": "code",
   "execution_count": 13,
   "metadata": {},
   "outputs": [
    {
     "data": {
      "text/plain": [
       "(1229508, 409796, 409796)"
      ]
     },
     "execution_count": 13,
     "metadata": {},
     "output_type": "execute_result"
    }
   ],
   "source": [
    "len(train_sequences), len(val_sequences), len(test_sequences)"
   ]
  },
  {
   "cell_type": "markdown",
   "metadata": {},
   "source": [
    "### Create dataset"
   ]
  },
  {
   "cell_type": "code",
   "execution_count": 14,
   "metadata": {},
   "outputs": [],
   "source": [
    "class PCDataset(Dataset):\n",
    "    def __init__(self, sequences):\n",
    "        # super().__init__()\n",
    "        self.sequences = sequences\n",
    "    def __len__(self):\n",
    "        return len(self.sequences)\n",
    "    def __getitem__(self, index):\n",
    "        sequence, label = self.sequences[index]\n",
    "        return dict(\n",
    "            sequence = torch.Tensor(sequence.to_numpy()).to(device='cuda') if torch.cuda.is_available() else torch.Tensor(sequence.to_numpy()), # put to cuda device if available\n",
    "            label = torch.Tensor(label).float().to(device='cuda') if torch.cuda.is_available() else torch.Tensor(label).float() # put to cuda device if available\n",
    "        )\n",
    "        "
   ]
  },
  {
   "cell_type": "markdown",
   "metadata": {},
   "source": [
    "Pytorch lightning data module"
   ]
  },
  {
   "cell_type": "code",
   "execution_count": 15,
   "metadata": {},
   "outputs": [],
   "source": [
    "class PCDataModule():\n",
    "    def __init__(self, train_sequences, test_sequences, batch_size=8):\n",
    "        self.train_sequences = train_sequences\n",
    "        self.val_sequences = val_sequences\n",
    "        self.test_sequences = test_sequences\n",
    "        self.batch_size = batch_size\n",
    "        print('batch size', self.batch_size)\n",
    "        \n",
    "    def setup(self, stage=None):\n",
    "        self.train_dataset = PCDataset(self.train_sequences)\n",
    "        self.val_dataset = PCDataset(self.val_sequences)\n",
    "        self.test_dataset = PCDataset(self.test_sequences)\n",
    "        \n",
    "    def train_dataloader(self):\n",
    "        return DataLoader(\n",
    "            self.train_dataset,\n",
    "            batch_size=self.batch_size,\n",
    "            shuffle=False,\n",
    "            # num_workers=2\n",
    "        )\n",
    "        \n",
    "    def val_dataloader(self):\n",
    "        return DataLoader(\n",
    "            self.val_dataset,\n",
    "            batch_size=self.batch_size,\n",
    "            shuffle=False,\n",
    "            # num_workers=2\n",
    "        )\n",
    "    def test_dataloader(self):\n",
    "        return DataLoader(\n",
    "            self.test_dataset,\n",
    "            batch_size=self.batch_size,\n",
    "            shuffle=False,\n",
    "            # num_workers=2\n",
    "        )"
   ]
  },
  {
   "cell_type": "markdown",
   "metadata": {},
   "source": [
    "Setup data module"
   ]
  },
  {
   "cell_type": "code",
   "execution_count": 16,
   "metadata": {},
   "outputs": [
    {
     "name": "stdout",
     "output_type": "stream",
     "text": [
      "batch size 64\n"
     ]
    }
   ],
   "source": [
    "num_epoch = 5\n",
    "batch_size = 64\n",
    "\n",
    "data_module = PCDataModule(train_sequences, test_sequences, batch_size)\n",
    "data_module.setup()"
   ]
  },
  {
   "cell_type": "code",
   "execution_count": 17,
   "metadata": {},
   "outputs": [
    {
     "name": "stdout",
     "output_type": "stream",
     "text": [
      "torch.Size([64, 60, 10])\n",
      "torch.Size([64, 10, 60])\n",
      "torch.Size([64, 1])\n"
     ]
    }
   ],
   "source": [
    "val = data_module.val_dataloader()\n",
    "for v in val:\n",
    "    print(v['sequence'].shape)\n",
    "    print(v['sequence'].transpose(1,2).shape)\n",
    "    print(v['label'].shape)\n",
    "    \n",
    "    break"
   ]
  },
  {
   "cell_type": "markdown",
   "metadata": {},
   "source": [
    "### Model building"
   ]
  },
  {
   "cell_type": "markdown",
   "metadata": {},
   "source": [
    "Pytorch model"
   ]
  },
  {
   "cell_type": "code",
   "execution_count": 18,
   "metadata": {},
   "outputs": [],
   "source": [
    "class CNNLSTM(nn.Module):\n",
    "    def __init__(self, n_features, n_hidden=64, kernel_size=2, lstm_input_size=None):\n",
    "        super(CNNLSTM, self).__init__()\n",
    "        self.n_hidden = n_hidden\n",
    "        \n",
    "        ### CNN\n",
    "        # convolution layer\n",
    "        self.conv1 = nn.Conv1d(in_channels=n_features, out_channels=n_hidden, kernel_size=kernel_size)\n",
    "        self.conv2 = nn.Conv1d(in_channels=n_hidden, out_channels=n_hidden, kernel_size=kernel_size)\n",
    "        \n",
    "        # pooling layer\n",
    "        self.pool1 = nn.MaxPool1d(kernel_size=kernel_size, stride=2)\n",
    "        self.pool2 = nn.MaxPool1d(kernel_size=kernel_size, stride=2)\n",
    "        \n",
    "        \n",
    "        ### LSTM \n",
    "        if lstm_input_size is not None:\n",
    "            self.lstm = nn.LSTM(\n",
    "                input_size=lstm_input_size,\n",
    "                hidden_size=n_hidden,\n",
    "                batch_first=True,\n",
    "                num_layers=1,\n",
    "                dropout=0.2\n",
    "            )\n",
    "        else:\n",
    "            self.lstm = None\n",
    "        # self.lstm = None\n",
    "        \n",
    "        # linear\n",
    "        self.lin1 = nn.Linear(self.n_hidden, 32)\n",
    "        self.lin2 = nn.Linear(32, 1)\n",
    "        \n",
    "        self.initialized = False\n",
    "    \n",
    "    def forward(self, x):\n",
    "        \n",
    "        # print(\"[in model] input shape before\", x.shape)\n",
    "        x = x.transpose(1,2)\n",
    "        # print(\"[in model] input shape before\", x.shape)\n",
    "        \n",
    "        # conv1\n",
    "        x = self.conv1(x)\n",
    "        x = x.relu()\n",
    "        x = self.pool1(x)\n",
    "        \n",
    "        # print('sofarsogud')\n",
    "        \n",
    "        # conv2\n",
    "        x = self.conv2(x)\n",
    "        x = x.relu()\n",
    "        x = self.pool2(x)\n",
    "        \n",
    "        \n",
    "        # print(\"size x\", x.size()) # batch, feature, sequence\n",
    "        \n",
    "        # lstm input\n",
    "        # (batch, seq, feature), then transpose\n",
    "        x = x.transpose(1,2)\n",
    "        # print(\"size xT\", x.size())\n",
    "        \n",
    "        \n",
    "        # Dynamically create lstm + linear layers if not already created\n",
    "        if not self.initialized:\n",
    "            n_size = x.size(2)\n",
    "            print(\"size\", n_size)\n",
    "            self.lstm = nn.LSTM(\n",
    "                input_size=n_size, #input feature\n",
    "                hidden_size=self.n_hidden,\n",
    "                batch_first=True,\n",
    "                num_layers=1,\n",
    "                dropout=0.2\n",
    "            ).to(x.device)\n",
    "            \n",
    "            # self.lin1 = nn.Linear(self.n_hidden, 32).to(x.device)\n",
    "            # self.lin2 = nn.Linear(32, 1).to(x.device)\n",
    "            self.initialized = True\n",
    "        \n",
    "        # LSTM\n",
    "        self.lstm.flatten_parameters()\n",
    "        _, (hidden, _) = self.lstm(x) # take the hidden state\n",
    "        x = hidden[-1] # take the last layer, which contains the features\n",
    "        \n",
    "        # Linear layers\n",
    "        x = self.lin1(x)\n",
    "        x = F.relu(x)\n",
    "        x = self.lin2(x)\n",
    "        \n",
    "        return x"
   ]
  },
  {
   "cell_type": "markdown",
   "metadata": {},
   "source": [
    "Pytorch lightning predictor wrapper"
   ]
  },
  {
   "cell_type": "code",
   "execution_count": null,
   "metadata": {},
   "outputs": [],
   "source": []
  },
  {
   "cell_type": "code",
   "execution_count": 19,
   "metadata": {},
   "outputs": [],
   "source": [
    "model = CNNLSTM(n_features=df.shape[1])\n",
    "model.to(torch.device('cuda'))\n",
    "out = None\n",
    "\n",
    "for d in data_module.train_dataloader():\n",
    "    sequence = d['sequence']\n",
    "    label = d['label']\n",
    "    # for batch_seq, batch_label in enumerate(sequence, label):  \n",
    "    #     print(batch_seq.shape)\n",
    "    #     print(batch_label.shape)\n",
    "    #     break\n",
    "    \n",
    "    # print(out.shape)\n",
    "    \n",
    "    break\n",
    "\n",
    "# print(out)"
   ]
  },
  {
   "cell_type": "code",
   "execution_count": 20,
   "metadata": {},
   "outputs": [
    {
     "name": "stdout",
     "output_type": "stream",
     "text": [
      "torch.Size([64, 60, 10])\n",
      "torch.Size([64, 1])\n"
     ]
    }
   ],
   "source": [
    "for data in data_module.train_dataloader():\n",
    "    print(data['sequence'].shape)\n",
    "    print(data['label'].shape)\n",
    "    break"
   ]
  },
  {
   "cell_type": "code",
   "execution_count": 21,
   "metadata": {},
   "outputs": [
    {
     "name": "stdout",
     "output_type": "stream",
     "text": [
      "size 64\n"
     ]
    },
    {
     "name": "stderr",
     "output_type": "stream",
     "text": [
      "c:\\Users\\sclab\\anaconda3\\envs\\xai\\lib\\site-packages\\torch\\nn\\modules\\rnn.py:82: UserWarning: dropout option adds dropout after all but last recurrent layer, so non-zero dropout expects num_layers greater than 1, but got dropout=0.2 and num_layers=1\n",
      "  warnings.warn(\"dropout option adds dropout after all but last \"\n"
     ]
    },
    {
     "name": "stdout",
     "output_type": "stream",
     "text": [
      "Epoch [1/5], Train Loss: 0.0113, Val Loss: 0.0148\n"
     ]
    }
   ],
   "source": [
    "model = CNNLSTM(n_features=df.shape[1]).to(torch.device('cuda'))\n",
    "train_loader = data_module.train_dataloader()\n",
    "val_loader = data_module.val_dataloader()\n",
    "criterion = nn.MSELoss()\n",
    "device = torch.device('cuda')\n",
    "optimizer = optim.Adam(model.parameters(), lr=0.0001)\n",
    "num_epochs = 5\n",
    "\n",
    "for epoch in range(num_epochs):\n",
    "    model.train()  # Set the model to training mode\n",
    "    total_loss = 0\n",
    "\n",
    "    for data in train_loader:\n",
    "        sequences = data['sequence']\n",
    "        labels = data['label']\n",
    "        # # Forward pass\n",
    "        # print(\"input seq shape\", sequences.shape)\n",
    "        # print(\"label\", labels.shape)\n",
    "        outputs = model(sequences)\n",
    "        # print(\"output shape\", outputs.shape)\n",
    "        # print(\"output\", outputs)\n",
    "        loss = criterion(outputs, labels)\n",
    "\n",
    "        # Backward pass and optimization\n",
    "        optimizer.zero_grad()\n",
    "        loss.backward()\n",
    "        optimizer.step()\n",
    "\n",
    "        total_loss += loss.item()\n",
    "        # print('loss', total_loss)\n",
    "        # break\n",
    "\n",
    "    # Calculate average loss over the epoch\n",
    "    # avg_train_loss = total_loss\n",
    "    avg_train_loss = total_loss / len(train_loader)\n",
    "\n",
    "    # break\n",
    "    # Validation\n",
    "    model.eval()  # Set the model to evaluation mode\n",
    "    total_val_loss = 0\n",
    "    with torch.no_grad():\n",
    "        for data in val_loader:\n",
    "            sequences = data['sequence']\n",
    "            labels = data['label']\n",
    "            sequences, labels = sequences.to(device), labels.to(device)\n",
    "            \n",
    "            outputs = model(sequences)\n",
    "            loss = criterion(outputs, labels)\n",
    "            total_val_loss += loss.item()\n",
    "            # break\n",
    "\n",
    "    avg_val_loss = total_val_loss / len(val_loader)\n",
    "    # avg_val_loss = total_val_loss\n",
    "\n",
    "    print(f\"Epoch [{epoch+1}/{num_epochs}], Train Loss: {avg_train_loss:.4f}, Val Loss: {avg_val_loss:.4f}\")\n",
    "\n",
    "    break\n"
   ]
  },
  {
   "cell_type": "code",
   "execution_count": 22,
   "metadata": {},
   "outputs": [
    {
     "data": {
      "text/plain": [
       "0.011325839793868073"
      ]
     },
     "execution_count": 22,
     "metadata": {},
     "output_type": "execute_result"
    }
   ],
   "source": [
    "avg_train_loss"
   ]
  },
  {
   "cell_type": "markdown",
   "metadata": {},
   "source": [
    "### Viz Test Dataset"
   ]
  },
  {
   "cell_type": "code",
   "execution_count": null,
   "metadata": {},
   "outputs": [],
   "source": [
    "test_loader = data_module.test_dataloader()\n",
    "\n",
    "outputs_seq = []\n",
    "labels_seq = []\n",
    "for data in test_loader:\n",
    "    sequences = data['sequence']\n",
    "    labels = data['label']\n",
    "    \n",
    "    outputs = model(sequences).detach()\n",
    "    outputs_seq.append(outputs)\n",
    "    labels_seq.append(labels)\n",
    "    \n",
    "\n",
    "# print(outputs_seq.shape)\n",
    "# print(labels_seq.shape)\n",
    "    "
   ]
  },
  {
   "cell_type": "code",
   "execution_count": 89,
   "metadata": {},
   "outputs": [],
   "source": [
    "preds = []\n",
    "y = []\n",
    "for output_seq in outputs_seq:\n",
    "    for output in output_seq:\n",
    "        preds.append(output.item())\n",
    "        \n",
    "for label_seq in labels_seq:\n",
    "    for label in label_seq:\n",
    "        y.append(label.item())"
   ]
  },
  {
   "cell_type": "code",
   "execution_count": 90,
   "metadata": {},
   "outputs": [
    {
     "data": {
      "text/plain": [
       "(409796, 409796)"
      ]
     },
     "execution_count": 90,
     "metadata": {},
     "output_type": "execute_result"
    }
   ],
   "source": [
    "test_df.shape[0] - 60, len(y)\n"
   ]
  },
  {
   "cell_type": "code",
   "execution_count": 91,
   "metadata": {},
   "outputs": [],
   "source": [
    "result_df = pd.DataFrame(\n",
    "    {\n",
    "        'predictions': preds,\n",
    "        'actual_labels': y,\n",
    "    }\n",
    ")"
   ]
  },
  {
   "cell_type": "code",
   "execution_count": 92,
   "metadata": {},
   "outputs": [
    {
     "data": {
      "text/plain": [
       "<Axes: >"
      ]
     },
     "execution_count": 92,
     "metadata": {},
     "output_type": "execute_result"
    },
    {
     "data": {
      "image/jpeg": "[encoded data removed]",
      "text/plain": [
       "<Figure size 640x480 with 1 Axes>"
      ]
     },
     "metadata": {},
     "output_type": "display_data"
    }
   ],
   "source": [
    "result_df[:100].plot()"
   ]
  },
  {
   "cell_type": "markdown",
   "metadata": {},
   "source": [
    "### MSE"
   ]
  },
  {
   "cell_type": "code",
   "execution_count": 93,
   "metadata": {},
   "outputs": [],
   "source": [
    "from torchmetrics.regression import MeanSquaredError"
   ]
  },
  {
   "cell_type": "code",
   "execution_count": 94,
   "metadata": {},
   "outputs": [
    {
     "data": {
      "text/plain": [
       "tensor(0.0140)"
      ]
     },
     "execution_count": 94,
     "metadata": {},
     "output_type": "execute_result"
    }
   ],
   "source": [
    "mse = MeanSquaredError()\n",
    "mse(torch.tensor(result_df['predictions'].values), torch.tensor(result_df['actual_labels'].values))"
   ]
  },
  {
   "cell_type": "code",
   "execution_count": null,
   "metadata": {},
   "outputs": [],
   "source": []
  }
 ],
 "metadata": {
  "kernelspec": {
   "display_name": "xai",
   "language": "python",
   "name": "python3"
  },
  "language_info": {
   "codemirror_mode": {
    "name": "ipython",
    "version": 3
   },
   "file_extension": ".py",
   "mimetype": "text/x-python",
   "name": "python",
   "nbconvert_exporter": "python",
   "pygments_lexer": "ipython3",
   "version": "3.8.18"
  }
 },
 "nbformat": 4,
 "nbformat_minor": 2
}
