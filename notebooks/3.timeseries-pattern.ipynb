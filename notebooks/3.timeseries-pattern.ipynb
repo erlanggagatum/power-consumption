{
 "cells": [
  {
   "cell_type": "code",
   "execution_count": 2,
   "metadata": {},
   "outputs": [
    {
     "data": {
      "text/plain": [
       "(0.08898972840347101, 0.9653012821884609, 0.027333129682045737, 'increasing')"
      ]
     },
     "execution_count": 2,
     "metadata": {},
     "output_type": "execute_result"
    }
   ],
   "source": [
    "import pandas as pd\n",
    "import numpy as np\n",
    "import statsmodels.api as sm\n",
    "import matplotlib.pyplot as plt\n",
    "\n",
    "# Create a date range\n",
    "date_rng = pd.date_range(start='1/1/2020', end='31/12/2020', freq='D')\n",
    "\n",
    "# Generate sample data with an increasing trend\n",
    "np.random.seed(0)\n",
    "trend_data = np.random.rand(len(date_rng)) * 0.5  # Random noise\n",
    "trend_data += np.linspace(0, 10, len(date_rng))  # Add a linear trend\n",
    "\n",
    "# Create a DataFrame\n",
    "df = pd.DataFrame(trend_data, columns=['value'], index=date_rng)\n",
    "\n",
    "# Decompose the time series\n",
    "decomposition = sm.tsa.seasonal_decompose(df['value'], model='additive')\n",
    "trend = decomposition.trend.dropna()  # Remove NaNs resulting from the decomposition\n",
    "\n",
    "# Perform a Dickey-Fuller test to check for stationarity\n",
    "result = sm.tsa.adfuller(df['value'])\n",
    "adf_statistic = result[0]\n",
    "p_value = result[1]\n",
    "\n",
    "# Fit a linear regression model to the trend component\n",
    "X = np.arange(len(trend)).reshape(-1, 1)  # Time as a regressor\n",
    "y = trend  # The trend component\n",
    "X = sm.add_constant(X)  # Add a constant to the regressor for the intercept\n",
    "\n",
    "model = sm.OLS(y, X).fit()\n",
    "\n",
    "# Check the slope (model.params[1])\n",
    "trend_slope = model.params[1]\n",
    "trend_message = 'increasing' if trend_slope > 0 else 'not increasing'\n",
    "\n",
    "# Return the results\n",
    "adf_statistic, p_value, trend_slope, trend_message\n"
   ]
  }
 ],
 "metadata": {
  "kernelspec": {
   "display_name": "xai",
   "language": "python",
   "name": "python3"
  },
  "language_info": {
   "codemirror_mode": {
    "name": "ipython",
    "version": 3
   },
   "file_extension": ".py",
   "mimetype": "text/x-python",
   "name": "python",
   "nbconvert_exporter": "python",
   "pygments_lexer": "ipython3",
   "version": "3.8.18"
  }
 },
 "nbformat": 4,
 "nbformat_minor": 2
}
